{
  "nbformat": 4,
  "nbformat_minor": 0,
  "metadata": {
    "colab": {
      "name": "NLP_Spacy_Analyse_Sentiments.ipynb",
      "provenance": [],
      "authorship_tag": "ABX9TyMYTCTmVw+/99G5piIigxep",
      "include_colab_link": true
    },
    "kernelspec": {
      "name": "python3",
      "display_name": "Python 3"
    },
    "language_info": {
      "name": "python"
    }
  },
  "cells": [
    {
      "cell_type": "markdown",
      "metadata": {
        "id": "view-in-github",
        "colab_type": "text"
      },
      "source": [
        "<a href=\"https://colab.research.google.com/github/FelixEbenezer/NLP_Spacy_Python/blob/main/NLP_Spacy_Analyse_Sentiments.ipynb\" target=\"_parent\"><img src=\"https://colab.research.google.com/assets/colab-badge.svg\" alt=\"Open In Colab\"/></a>"
      ]
    },
    {
      "cell_type": "markdown",
      "source": [
        "pour ce projet, on va utiliser 100% spacy cad tant en pre traitement comme en construction de modeles CNN car il y a ceux qui utilisent spacy que en pre traitement et tensor flow ou sklearn pour la construction du modele."
      ],
      "metadata": {
        "id": "BEwLCdrWxHcf"
      }
    },
    {
      "cell_type": "code",
      "execution_count": null,
      "metadata": {
        "colab": {
          "base_uri": "https://localhost:8080/"
        },
        "id": "YVs5dtZlpS-p",
        "outputId": "52d11e3e-5ef8-4792-f284-dd379f79b788"
      },
      "outputs": [
        {
          "output_type": "stream",
          "name": "stdout",
          "text": [
            "Requirement already satisfied: spacy==2.2.3 in /usr/local/lib/python3.7/dist-packages (2.2.3)\n",
            "Requirement already satisfied: wasabi<1.1.0,>=0.4.0 in /usr/local/lib/python3.7/dist-packages (from spacy==2.2.3) (0.9.1)\n",
            "Requirement already satisfied: murmurhash<1.1.0,>=0.28.0 in /usr/local/lib/python3.7/dist-packages (from spacy==2.2.3) (1.0.6)\n",
            "Requirement already satisfied: cymem<2.1.0,>=2.0.2 in /usr/local/lib/python3.7/dist-packages (from spacy==2.2.3) (2.0.6)\n",
            "Requirement already satisfied: blis<0.5.0,>=0.4.0 in /usr/local/lib/python3.7/dist-packages (from spacy==2.2.3) (0.4.1)\n",
            "Requirement already satisfied: catalogue<1.1.0,>=0.0.7 in /usr/local/lib/python3.7/dist-packages (from spacy==2.2.3) (1.0.0)\n",
            "Requirement already satisfied: preshed<3.1.0,>=3.0.2 in /usr/local/lib/python3.7/dist-packages (from spacy==2.2.3) (3.0.6)\n",
            "Requirement already satisfied: numpy>=1.15.0 in /usr/local/lib/python3.7/dist-packages (from spacy==2.2.3) (1.21.5)\n",
            "Requirement already satisfied: thinc<7.4.0,>=7.3.0 in /usr/local/lib/python3.7/dist-packages (from spacy==2.2.3) (7.3.1)\n",
            "Requirement already satisfied: setuptools in /usr/local/lib/python3.7/dist-packages (from spacy==2.2.3) (57.4.0)\n",
            "Requirement already satisfied: srsly<1.1.0,>=0.1.0 in /usr/local/lib/python3.7/dist-packages (from spacy==2.2.3) (1.0.5)\n",
            "Requirement already satisfied: requests<3.0.0,>=2.13.0 in /usr/local/lib/python3.7/dist-packages (from spacy==2.2.3) (2.23.0)\n",
            "Requirement already satisfied: plac<1.2.0,>=0.9.6 in /usr/local/lib/python3.7/dist-packages (from spacy==2.2.3) (1.1.3)\n",
            "Requirement already satisfied: importlib-metadata>=0.20 in /usr/local/lib/python3.7/dist-packages (from catalogue<1.1.0,>=0.0.7->spacy==2.2.3) (4.11.3)\n",
            "Requirement already satisfied: typing-extensions>=3.6.4 in /usr/local/lib/python3.7/dist-packages (from importlib-metadata>=0.20->catalogue<1.1.0,>=0.0.7->spacy==2.2.3) (3.10.0.2)\n",
            "Requirement already satisfied: zipp>=0.5 in /usr/local/lib/python3.7/dist-packages (from importlib-metadata>=0.20->catalogue<1.1.0,>=0.0.7->spacy==2.2.3) (3.8.0)\n",
            "Requirement already satisfied: chardet<4,>=3.0.2 in /usr/local/lib/python3.7/dist-packages (from requests<3.0.0,>=2.13.0->spacy==2.2.3) (3.0.4)\n",
            "Requirement already satisfied: urllib3!=1.25.0,!=1.25.1,<1.26,>=1.21.1 in /usr/local/lib/python3.7/dist-packages (from requests<3.0.0,>=2.13.0->spacy==2.2.3) (1.24.3)\n",
            "Requirement already satisfied: idna<3,>=2.5 in /usr/local/lib/python3.7/dist-packages (from requests<3.0.0,>=2.13.0->spacy==2.2.3) (2.10)\n",
            "Requirement already satisfied: certifi>=2017.4.17 in /usr/local/lib/python3.7/dist-packages (from requests<3.0.0,>=2.13.0->spacy==2.2.3) (2021.10.8)\n",
            "Requirement already satisfied: tqdm<5.0.0,>=4.10.0 in /usr/local/lib/python3.7/dist-packages (from thinc<7.4.0,>=7.3.0->spacy==2.2.3) (4.64.0)\n"
          ]
        }
      ],
      "source": [
        "#Convient utiliser la version 2.2.3 de spacy pour le fonctionnement de certaines methodes qui ne fonctionnent pas bien dans une version differente de celle si\n",
        "!pip install spacy==2.2.3"
      ]
    },
    {
      "cell_type": "code",
      "source": [
        "import spacy\n",
        "spacy.__version__"
      ],
      "metadata": {
        "colab": {
          "base_uri": "https://localhost:8080/",
          "height": 35
        },
        "id": "7KbGJ5tlpqKm",
        "outputId": "5c57a556-528e-4207-959e-6205a0e74f7e"
      },
      "execution_count": null,
      "outputs": [
        {
          "output_type": "execute_result",
          "data": {
            "text/plain": [
              "'2.2.3'"
            ],
            "application/vnd.google.colaboratory.intrinsic+json": {
              "type": "string"
            }
          },
          "metadata": {},
          "execution_count": 2
        }
      ]
    },
    {
      "cell_type": "code",
      "source": [
        "!python -m spacy download fr_core_news_sm"
      ],
      "metadata": {
        "colab": {
          "base_uri": "https://localhost:8080/"
        },
        "id": "K-9i-v4Qp7M6",
        "outputId": "58b5ca1f-f3e1-441f-9c01-4b44fb1c5aeb"
      },
      "execution_count": null,
      "outputs": [
        {
          "output_type": "stream",
          "name": "stdout",
          "text": [
            "Collecting fr_core_news_sm==2.2.5\n",
            "  Downloading https://github.com/explosion/spacy-models/releases/download/fr_core_news_sm-2.2.5/fr_core_news_sm-2.2.5.tar.gz (14.7 MB)\n",
            "\u001b[K     |████████████████████████████████| 14.7 MB 7.2 MB/s \n",
            "\u001b[?25hRequirement already satisfied: spacy>=2.2.2 in /usr/local/lib/python3.7/dist-packages (from fr_core_news_sm==2.2.5) (2.2.3)\n",
            "Requirement already satisfied: thinc<7.4.0,>=7.3.0 in /usr/local/lib/python3.7/dist-packages (from spacy>=2.2.2->fr_core_news_sm==2.2.5) (7.3.1)\n",
            "Requirement already satisfied: blis<0.5.0,>=0.4.0 in /usr/local/lib/python3.7/dist-packages (from spacy>=2.2.2->fr_core_news_sm==2.2.5) (0.4.1)\n",
            "Requirement already satisfied: catalogue<1.1.0,>=0.0.7 in /usr/local/lib/python3.7/dist-packages (from spacy>=2.2.2->fr_core_news_sm==2.2.5) (1.0.0)\n",
            "Requirement already satisfied: srsly<1.1.0,>=0.1.0 in /usr/local/lib/python3.7/dist-packages (from spacy>=2.2.2->fr_core_news_sm==2.2.5) (1.0.5)\n",
            "Requirement already satisfied: cymem<2.1.0,>=2.0.2 in /usr/local/lib/python3.7/dist-packages (from spacy>=2.2.2->fr_core_news_sm==2.2.5) (2.0.6)\n",
            "Requirement already satisfied: wasabi<1.1.0,>=0.4.0 in /usr/local/lib/python3.7/dist-packages (from spacy>=2.2.2->fr_core_news_sm==2.2.5) (0.9.1)\n",
            "Requirement already satisfied: murmurhash<1.1.0,>=0.28.0 in /usr/local/lib/python3.7/dist-packages (from spacy>=2.2.2->fr_core_news_sm==2.2.5) (1.0.6)\n",
            "Requirement already satisfied: numpy>=1.15.0 in /usr/local/lib/python3.7/dist-packages (from spacy>=2.2.2->fr_core_news_sm==2.2.5) (1.21.5)\n",
            "Requirement already satisfied: requests<3.0.0,>=2.13.0 in /usr/local/lib/python3.7/dist-packages (from spacy>=2.2.2->fr_core_news_sm==2.2.5) (2.23.0)\n",
            "Requirement already satisfied: plac<1.2.0,>=0.9.6 in /usr/local/lib/python3.7/dist-packages (from spacy>=2.2.2->fr_core_news_sm==2.2.5) (1.1.3)\n",
            "Requirement already satisfied: preshed<3.1.0,>=3.0.2 in /usr/local/lib/python3.7/dist-packages (from spacy>=2.2.2->fr_core_news_sm==2.2.5) (3.0.6)\n",
            "Requirement already satisfied: setuptools in /usr/local/lib/python3.7/dist-packages (from spacy>=2.2.2->fr_core_news_sm==2.2.5) (57.4.0)\n",
            "Requirement already satisfied: importlib-metadata>=0.20 in /usr/local/lib/python3.7/dist-packages (from catalogue<1.1.0,>=0.0.7->spacy>=2.2.2->fr_core_news_sm==2.2.5) (4.11.3)\n",
            "Requirement already satisfied: zipp>=0.5 in /usr/local/lib/python3.7/dist-packages (from importlib-metadata>=0.20->catalogue<1.1.0,>=0.0.7->spacy>=2.2.2->fr_core_news_sm==2.2.5) (3.8.0)\n",
            "Requirement already satisfied: typing-extensions>=3.6.4 in /usr/local/lib/python3.7/dist-packages (from importlib-metadata>=0.20->catalogue<1.1.0,>=0.0.7->spacy>=2.2.2->fr_core_news_sm==2.2.5) (3.10.0.2)\n",
            "Requirement already satisfied: urllib3!=1.25.0,!=1.25.1,<1.26,>=1.21.1 in /usr/local/lib/python3.7/dist-packages (from requests<3.0.0,>=2.13.0->spacy>=2.2.2->fr_core_news_sm==2.2.5) (1.24.3)\n",
            "Requirement already satisfied: idna<3,>=2.5 in /usr/local/lib/python3.7/dist-packages (from requests<3.0.0,>=2.13.0->spacy>=2.2.2->fr_core_news_sm==2.2.5) (2.10)\n",
            "Requirement already satisfied: certifi>=2017.4.17 in /usr/local/lib/python3.7/dist-packages (from requests<3.0.0,>=2.13.0->spacy>=2.2.2->fr_core_news_sm==2.2.5) (2021.10.8)\n",
            "Requirement already satisfied: chardet<4,>=3.0.2 in /usr/local/lib/python3.7/dist-packages (from requests<3.0.0,>=2.13.0->spacy>=2.2.2->fr_core_news_sm==2.2.5) (3.0.4)\n",
            "Requirement already satisfied: tqdm<5.0.0,>=4.10.0 in /usr/local/lib/python3.7/dist-packages (from thinc<7.4.0,>=7.3.0->spacy>=2.2.2->fr_core_news_sm==2.2.5) (4.64.0)\n",
            "Building wheels for collected packages: fr-core-news-sm\n",
            "  Building wheel for fr-core-news-sm (setup.py) ... \u001b[?25l\u001b[?25hdone\n",
            "  Created wheel for fr-core-news-sm: filename=fr_core_news_sm-2.2.5-py3-none-any.whl size=14727025 sha256=518b6b89452457faf6aca0f87b00942c516975af6c69589871f682b4280f1d16\n",
            "  Stored in directory: /tmp/pip-ephem-wheel-cache-6r2d_apn/wheels/c9/a6/ea/0778337c34660027ee67ef3a91fb9d3600b76777a912ea1c24\n",
            "Successfully built fr-core-news-sm\n",
            "Installing collected packages: fr-core-news-sm\n",
            "  Attempting uninstall: fr-core-news-sm\n",
            "    Found existing installation: fr-core-news-sm 3.2.0\n",
            "    Uninstalling fr-core-news-sm-3.2.0:\n",
            "      Successfully uninstalled fr-core-news-sm-3.2.0\n",
            "Successfully installed fr-core-news-sm-2.2.5\n",
            "\u001b[38;5;2m✔ Download and installation successful\u001b[0m\n",
            "You can now load the model via spacy.load('fr_core_news_sm')\n"
          ]
        }
      ]
    },
    {
      "cell_type": "code",
      "source": [
        "pln = spacy.load('fr_core_news_sm')\n",
        "pln"
      ],
      "metadata": {
        "colab": {
          "base_uri": "https://localhost:8080/"
        },
        "id": "GJe5M9YoqLau",
        "outputId": "2abe3028-c530-49b3-8a32-9eb6b69e10a6"
      },
      "execution_count": null,
      "outputs": [
        {
          "output_type": "execute_result",
          "data": {
            "text/plain": [
              "<spacy.lang.fr.French at 0x7fd6541b55d0>"
            ]
          },
          "metadata": {},
          "execution_count": 4
        }
      ]
    },
    {
      "cell_type": "code",
      "source": [
        "from google.colab import drive\n",
        "drive.mount('/content/drive')"
      ],
      "metadata": {
        "colab": {
          "base_uri": "https://localhost:8080/"
        },
        "id": "hiEZtFFGqTyx",
        "outputId": "0dcd213d-2098-42f6-ded3-71f6b248fcee"
      },
      "execution_count": null,
      "outputs": [
        {
          "output_type": "stream",
          "name": "stdout",
          "text": [
            "Drive already mounted at /content/drive; to attempt to forcibly remount, call drive.mount(\"/content/drive\", force_remount=True).\n"
          ]
        }
      ]
    },
    {
      "cell_type": "code",
      "source": [
        "import pandas as pd\n",
        "import seaborn as sns\n",
        "import numpy as np\n",
        "import string\n",
        "import random "
      ],
      "metadata": {
        "id": "94oASEmwqfo4"
      },
      "execution_count": null,
      "outputs": []
    },
    {
      "cell_type": "code",
      "source": [
        "df = pd.read_csv('/content/drive/MyDrive/dataset_immersion.csv', sep='\\t', header=0, index_col=None)"
      ],
      "metadata": {
        "id": "yYuK4eWRrAyG"
      },
      "execution_count": null,
      "outputs": []
    },
    {
      "cell_type": "code",
      "source": [
        "df"
      ],
      "metadata": {
        "colab": {
          "base_uri": "https://localhost:8080/",
          "height": 424
        },
        "id": "Ox19iHeewD4G",
        "outputId": "14696c6c-5ab6-4844-d8d5-d33facaff7aa"
      },
      "execution_count": null,
      "outputs": [
        {
          "output_type": "execute_result",
          "data": {
            "text/plain": [
              "                                                     text  \\\n",
              "0           Allez, on remet ça !\\n\\nLONGUE VIE A CE TOPIC   \n",
              "1                                                     oui   \n",
              "2                   c'est un nouveau départ pour le forum   \n",
              "3                     On prend les mêmes et on recommence   \n",
              "4                    y'avait pas une majuscule à \"nuit\" ?   \n",
              "...                                                   ...   \n",
              "385519  heu on a t'as deja repondu ailleurt il me semb...   \n",
              "385520  En réponse à FHL44\\nheu on a t'as deja repondu...   \n",
              "385521  Coucou tout le monde!\\nAlors voila,hier soir j...   \n",
              "385522  concernant le saignement et la douleur, on est...   \n",
              "385523  exusez moi de  vous poser ces questions  un pe...   \n",
              "\n",
              "                                               clean_text  label  length  \n",
              "0                 Allez on remet ça LONGUE VIE A CE TOPIC   ados       9  \n",
              "1                                                     oui   ados       1  \n",
              "2                   c'est un nouveau départ pour le forum   ados       7  \n",
              "3                     On prend les mêmes et on recommence   ados       7  \n",
              "4                  y'avait pas une majuscule à `` nuit ''   ados       8  \n",
              "...                                                   ...    ...     ...  \n",
              "385519  heu on a t'as deja repondu ailleurt il me semb...  adult      20  \n",
              "385520  En réponse à FHL44 heu on a t'as deja repondu ...  adult      54  \n",
              "385521  Coucou tout le monde Alors voila hier soir j'a...  adult     123  \n",
              "385522  concernant le saignement et la douleur on est ...  adult      72  \n",
              "385523  exusez moi de vous poser ces questions un peu ...  adult      56  \n",
              "\n",
              "[385524 rows x 4 columns]"
            ],
            "text/html": [
              "\n",
              "  <div id=\"df-ed5c0589-8161-40e8-94df-795066dba34c\">\n",
              "    <div class=\"colab-df-container\">\n",
              "      <div>\n",
              "<style scoped>\n",
              "    .dataframe tbody tr th:only-of-type {\n",
              "        vertical-align: middle;\n",
              "    }\n",
              "\n",
              "    .dataframe tbody tr th {\n",
              "        vertical-align: top;\n",
              "    }\n",
              "\n",
              "    .dataframe thead th {\n",
              "        text-align: right;\n",
              "    }\n",
              "</style>\n",
              "<table border=\"1\" class=\"dataframe\">\n",
              "  <thead>\n",
              "    <tr style=\"text-align: right;\">\n",
              "      <th></th>\n",
              "      <th>text</th>\n",
              "      <th>clean_text</th>\n",
              "      <th>label</th>\n",
              "      <th>length</th>\n",
              "    </tr>\n",
              "  </thead>\n",
              "  <tbody>\n",
              "    <tr>\n",
              "      <th>0</th>\n",
              "      <td>Allez, on remet ça !\\n\\nLONGUE VIE A CE TOPIC</td>\n",
              "      <td>Allez on remet ça LONGUE VIE A CE TOPIC</td>\n",
              "      <td>ados</td>\n",
              "      <td>9</td>\n",
              "    </tr>\n",
              "    <tr>\n",
              "      <th>1</th>\n",
              "      <td>oui</td>\n",
              "      <td>oui</td>\n",
              "      <td>ados</td>\n",
              "      <td>1</td>\n",
              "    </tr>\n",
              "    <tr>\n",
              "      <th>2</th>\n",
              "      <td>c'est un nouveau départ pour le forum</td>\n",
              "      <td>c'est un nouveau départ pour le forum</td>\n",
              "      <td>ados</td>\n",
              "      <td>7</td>\n",
              "    </tr>\n",
              "    <tr>\n",
              "      <th>3</th>\n",
              "      <td>On prend les mêmes et on recommence</td>\n",
              "      <td>On prend les mêmes et on recommence</td>\n",
              "      <td>ados</td>\n",
              "      <td>7</td>\n",
              "    </tr>\n",
              "    <tr>\n",
              "      <th>4</th>\n",
              "      <td>y'avait pas une majuscule à \"nuit\" ?</td>\n",
              "      <td>y'avait pas une majuscule à `` nuit ''</td>\n",
              "      <td>ados</td>\n",
              "      <td>8</td>\n",
              "    </tr>\n",
              "    <tr>\n",
              "      <th>...</th>\n",
              "      <td>...</td>\n",
              "      <td>...</td>\n",
              "      <td>...</td>\n",
              "      <td>...</td>\n",
              "    </tr>\n",
              "    <tr>\n",
              "      <th>385519</th>\n",
              "      <td>heu on a t'as deja repondu ailleurt il me semb...</td>\n",
              "      <td>heu on a t'as deja repondu ailleurt il me semb...</td>\n",
              "      <td>adult</td>\n",
              "      <td>20</td>\n",
              "    </tr>\n",
              "    <tr>\n",
              "      <th>385520</th>\n",
              "      <td>En réponse à FHL44\\nheu on a t'as deja repondu...</td>\n",
              "      <td>En réponse à FHL44 heu on a t'as deja repondu ...</td>\n",
              "      <td>adult</td>\n",
              "      <td>54</td>\n",
              "    </tr>\n",
              "    <tr>\n",
              "      <th>385521</th>\n",
              "      <td>Coucou tout le monde!\\nAlors voila,hier soir j...</td>\n",
              "      <td>Coucou tout le monde Alors voila hier soir j'a...</td>\n",
              "      <td>adult</td>\n",
              "      <td>123</td>\n",
              "    </tr>\n",
              "    <tr>\n",
              "      <th>385522</th>\n",
              "      <td>concernant le saignement et la douleur, on est...</td>\n",
              "      <td>concernant le saignement et la douleur on est ...</td>\n",
              "      <td>adult</td>\n",
              "      <td>72</td>\n",
              "    </tr>\n",
              "    <tr>\n",
              "      <th>385523</th>\n",
              "      <td>exusez moi de  vous poser ces questions  un pe...</td>\n",
              "      <td>exusez moi de vous poser ces questions un peu ...</td>\n",
              "      <td>adult</td>\n",
              "      <td>56</td>\n",
              "    </tr>\n",
              "  </tbody>\n",
              "</table>\n",
              "<p>385524 rows × 4 columns</p>\n",
              "</div>\n",
              "      <button class=\"colab-df-convert\" onclick=\"convertToInteractive('df-ed5c0589-8161-40e8-94df-795066dba34c')\"\n",
              "              title=\"Convert this dataframe to an interactive table.\"\n",
              "              style=\"display:none;\">\n",
              "        \n",
              "  <svg xmlns=\"http://www.w3.org/2000/svg\" height=\"24px\"viewBox=\"0 0 24 24\"\n",
              "       width=\"24px\">\n",
              "    <path d=\"M0 0h24v24H0V0z\" fill=\"none\"/>\n",
              "    <path d=\"M18.56 5.44l.94 2.06.94-2.06 2.06-.94-2.06-.94-.94-2.06-.94 2.06-2.06.94zm-11 1L8.5 8.5l.94-2.06 2.06-.94-2.06-.94L8.5 2.5l-.94 2.06-2.06.94zm10 10l.94 2.06.94-2.06 2.06-.94-2.06-.94-.94-2.06-.94 2.06-2.06.94z\"/><path d=\"M17.41 7.96l-1.37-1.37c-.4-.4-.92-.59-1.43-.59-.52 0-1.04.2-1.43.59L10.3 9.45l-7.72 7.72c-.78.78-.78 2.05 0 2.83L4 21.41c.39.39.9.59 1.41.59.51 0 1.02-.2 1.41-.59l7.78-7.78 2.81-2.81c.8-.78.8-2.07 0-2.86zM5.41 20L4 18.59l7.72-7.72 1.47 1.35L5.41 20z\"/>\n",
              "  </svg>\n",
              "      </button>\n",
              "      \n",
              "  <style>\n",
              "    .colab-df-container {\n",
              "      display:flex;\n",
              "      flex-wrap:wrap;\n",
              "      gap: 12px;\n",
              "    }\n",
              "\n",
              "    .colab-df-convert {\n",
              "      background-color: #E8F0FE;\n",
              "      border: none;\n",
              "      border-radius: 50%;\n",
              "      cursor: pointer;\n",
              "      display: none;\n",
              "      fill: #1967D2;\n",
              "      height: 32px;\n",
              "      padding: 0 0 0 0;\n",
              "      width: 32px;\n",
              "    }\n",
              "\n",
              "    .colab-df-convert:hover {\n",
              "      background-color: #E2EBFA;\n",
              "      box-shadow: 0px 1px 2px rgba(60, 64, 67, 0.3), 0px 1px 3px 1px rgba(60, 64, 67, 0.15);\n",
              "      fill: #174EA6;\n",
              "    }\n",
              "\n",
              "    [theme=dark] .colab-df-convert {\n",
              "      background-color: #3B4455;\n",
              "      fill: #D2E3FC;\n",
              "    }\n",
              "\n",
              "    [theme=dark] .colab-df-convert:hover {\n",
              "      background-color: #434B5C;\n",
              "      box-shadow: 0px 1px 3px 1px rgba(0, 0, 0, 0.15);\n",
              "      filter: drop-shadow(0px 1px 2px rgba(0, 0, 0, 0.3));\n",
              "      fill: #FFFFFF;\n",
              "    }\n",
              "  </style>\n",
              "\n",
              "      <script>\n",
              "        const buttonEl =\n",
              "          document.querySelector('#df-ed5c0589-8161-40e8-94df-795066dba34c button.colab-df-convert');\n",
              "        buttonEl.style.display =\n",
              "          google.colab.kernel.accessAllowed ? 'block' : 'none';\n",
              "\n",
              "        async function convertToInteractive(key) {\n",
              "          const element = document.querySelector('#df-ed5c0589-8161-40e8-94df-795066dba34c');\n",
              "          const dataTable =\n",
              "            await google.colab.kernel.invokeFunction('convertToInteractive',\n",
              "                                                     [key], {});\n",
              "          if (!dataTable) return;\n",
              "\n",
              "          const docLinkHtml = 'Like what you see? Visit the ' +\n",
              "            '<a target=\"_blank\" href=https://colab.research.google.com/notebooks/data_table.ipynb>data table notebook</a>'\n",
              "            + ' to learn more about interactive tables.';\n",
              "          element.innerHTML = '';\n",
              "          dataTable['output_type'] = 'display_data';\n",
              "          await google.colab.output.renderOutput(dataTable, element);\n",
              "          const docLink = document.createElement('div');\n",
              "          docLink.innerHTML = docLinkHtml;\n",
              "          element.appendChild(docLink);\n",
              "        }\n",
              "      </script>\n",
              "    </div>\n",
              "  </div>\n",
              "  "
            ]
          },
          "metadata": {},
          "execution_count": 8
        }
      ]
    },
    {
      "cell_type": "code",
      "source": [
        "df = df.drop(['text', 'length'], axis=1)"
      ],
      "metadata": {
        "id": "nOWdtQOHt8in"
      },
      "execution_count": null,
      "outputs": []
    },
    {
      "cell_type": "code",
      "source": [
        "df_a = df"
      ],
      "metadata": {
        "id": "846nTMM2wK-C"
      },
      "execution_count": null,
      "outputs": []
    },
    {
      "cell_type": "code",
      "source": [
        "df_t = pd.concat([df[df['label']=='ados'][:100], df[df['label']=='adult'][0:100]])"
      ],
      "metadata": {
        "id": "axlWq88c-LYY"
      },
      "execution_count": null,
      "outputs": []
    },
    {
      "cell_type": "code",
      "source": [
        "df_teste = pd.concat([df[df['label']=='adult'][:100], df[df['label']=='ados'][0:100]])"
      ],
      "metadata": {
        "id": "Gq-kB31YJlge"
      },
      "execution_count": null,
      "outputs": []
    },
    {
      "cell_type": "code",
      "source": [
        "df_teste.sample(200)"
      ],
      "metadata": {
        "colab": {
          "base_uri": "https://localhost:8080/",
          "height": 424
        },
        "id": "02Xa1n8cJufH",
        "outputId": "693905f8-e0f2-4172-d1c6-e6a104193a38"
      },
      "execution_count": null,
      "outputs": [
        {
          "output_type": "execute_result",
          "data": {
            "text/plain": [
              "                                               clean_text  label\n",
              "66      Moi bon bah voilà on y est ... La fameuse date...   ados\n",
              "20      j'avais réalisé une fois c'était un dixième du...   ados\n",
              "222996  Oui j'ai pensé la même chose mais bon hein j'a...  adult\n",
              "10                                                    FEO   ados\n",
              "222922  Bonjour à tous J'ai besoin de parler ... oui j...  adult\n",
              "...                                                   ...    ...\n",
              "222965  Bonsoir Éloigner votre fils de ce garçon est l...  adult\n",
              "46      Salut Je sais que ça fait longtemps mais je vo...   ados\n",
              "59      ... Je suis entièrement d'accord avec toi quan...   ados\n",
              "45      Bonjour si cela atteint un haut point essaye d...   ados\n",
              "222992  Au contraire ils s'en mêlent trop Le détournem...  adult\n",
              "\n",
              "[200 rows x 2 columns]"
            ],
            "text/html": [
              "\n",
              "  <div id=\"df-1fa49941-85de-4e09-85fd-966be5366147\">\n",
              "    <div class=\"colab-df-container\">\n",
              "      <div>\n",
              "<style scoped>\n",
              "    .dataframe tbody tr th:only-of-type {\n",
              "        vertical-align: middle;\n",
              "    }\n",
              "\n",
              "    .dataframe tbody tr th {\n",
              "        vertical-align: top;\n",
              "    }\n",
              "\n",
              "    .dataframe thead th {\n",
              "        text-align: right;\n",
              "    }\n",
              "</style>\n",
              "<table border=\"1\" class=\"dataframe\">\n",
              "  <thead>\n",
              "    <tr style=\"text-align: right;\">\n",
              "      <th></th>\n",
              "      <th>clean_text</th>\n",
              "      <th>label</th>\n",
              "    </tr>\n",
              "  </thead>\n",
              "  <tbody>\n",
              "    <tr>\n",
              "      <th>66</th>\n",
              "      <td>Moi bon bah voilà on y est ... La fameuse date...</td>\n",
              "      <td>ados</td>\n",
              "    </tr>\n",
              "    <tr>\n",
              "      <th>20</th>\n",
              "      <td>j'avais réalisé une fois c'était un dixième du...</td>\n",
              "      <td>ados</td>\n",
              "    </tr>\n",
              "    <tr>\n",
              "      <th>222996</th>\n",
              "      <td>Oui j'ai pensé la même chose mais bon hein j'a...</td>\n",
              "      <td>adult</td>\n",
              "    </tr>\n",
              "    <tr>\n",
              "      <th>10</th>\n",
              "      <td>FEO</td>\n",
              "      <td>ados</td>\n",
              "    </tr>\n",
              "    <tr>\n",
              "      <th>222922</th>\n",
              "      <td>Bonjour à tous J'ai besoin de parler ... oui j...</td>\n",
              "      <td>adult</td>\n",
              "    </tr>\n",
              "    <tr>\n",
              "      <th>...</th>\n",
              "      <td>...</td>\n",
              "      <td>...</td>\n",
              "    </tr>\n",
              "    <tr>\n",
              "      <th>222965</th>\n",
              "      <td>Bonsoir Éloigner votre fils de ce garçon est l...</td>\n",
              "      <td>adult</td>\n",
              "    </tr>\n",
              "    <tr>\n",
              "      <th>46</th>\n",
              "      <td>Salut Je sais que ça fait longtemps mais je vo...</td>\n",
              "      <td>ados</td>\n",
              "    </tr>\n",
              "    <tr>\n",
              "      <th>59</th>\n",
              "      <td>... Je suis entièrement d'accord avec toi quan...</td>\n",
              "      <td>ados</td>\n",
              "    </tr>\n",
              "    <tr>\n",
              "      <th>45</th>\n",
              "      <td>Bonjour si cela atteint un haut point essaye d...</td>\n",
              "      <td>ados</td>\n",
              "    </tr>\n",
              "    <tr>\n",
              "      <th>222992</th>\n",
              "      <td>Au contraire ils s'en mêlent trop Le détournem...</td>\n",
              "      <td>adult</td>\n",
              "    </tr>\n",
              "  </tbody>\n",
              "</table>\n",
              "<p>200 rows × 2 columns</p>\n",
              "</div>\n",
              "      <button class=\"colab-df-convert\" onclick=\"convertToInteractive('df-1fa49941-85de-4e09-85fd-966be5366147')\"\n",
              "              title=\"Convert this dataframe to an interactive table.\"\n",
              "              style=\"display:none;\">\n",
              "        \n",
              "  <svg xmlns=\"http://www.w3.org/2000/svg\" height=\"24px\"viewBox=\"0 0 24 24\"\n",
              "       width=\"24px\">\n",
              "    <path d=\"M0 0h24v24H0V0z\" fill=\"none\"/>\n",
              "    <path d=\"M18.56 5.44l.94 2.06.94-2.06 2.06-.94-2.06-.94-.94-2.06-.94 2.06-2.06.94zm-11 1L8.5 8.5l.94-2.06 2.06-.94-2.06-.94L8.5 2.5l-.94 2.06-2.06.94zm10 10l.94 2.06.94-2.06 2.06-.94-2.06-.94-.94-2.06-.94 2.06-2.06.94z\"/><path d=\"M17.41 7.96l-1.37-1.37c-.4-.4-.92-.59-1.43-.59-.52 0-1.04.2-1.43.59L10.3 9.45l-7.72 7.72c-.78.78-.78 2.05 0 2.83L4 21.41c.39.39.9.59 1.41.59.51 0 1.02-.2 1.41-.59l7.78-7.78 2.81-2.81c.8-.78.8-2.07 0-2.86zM5.41 20L4 18.59l7.72-7.72 1.47 1.35L5.41 20z\"/>\n",
              "  </svg>\n",
              "      </button>\n",
              "      \n",
              "  <style>\n",
              "    .colab-df-container {\n",
              "      display:flex;\n",
              "      flex-wrap:wrap;\n",
              "      gap: 12px;\n",
              "    }\n",
              "\n",
              "    .colab-df-convert {\n",
              "      background-color: #E8F0FE;\n",
              "      border: none;\n",
              "      border-radius: 50%;\n",
              "      cursor: pointer;\n",
              "      display: none;\n",
              "      fill: #1967D2;\n",
              "      height: 32px;\n",
              "      padding: 0 0 0 0;\n",
              "      width: 32px;\n",
              "    }\n",
              "\n",
              "    .colab-df-convert:hover {\n",
              "      background-color: #E2EBFA;\n",
              "      box-shadow: 0px 1px 2px rgba(60, 64, 67, 0.3), 0px 1px 3px 1px rgba(60, 64, 67, 0.15);\n",
              "      fill: #174EA6;\n",
              "    }\n",
              "\n",
              "    [theme=dark] .colab-df-convert {\n",
              "      background-color: #3B4455;\n",
              "      fill: #D2E3FC;\n",
              "    }\n",
              "\n",
              "    [theme=dark] .colab-df-convert:hover {\n",
              "      background-color: #434B5C;\n",
              "      box-shadow: 0px 1px 3px 1px rgba(0, 0, 0, 0.15);\n",
              "      filter: drop-shadow(0px 1px 2px rgba(0, 0, 0, 0.3));\n",
              "      fill: #FFFFFF;\n",
              "    }\n",
              "  </style>\n",
              "\n",
              "      <script>\n",
              "        const buttonEl =\n",
              "          document.querySelector('#df-1fa49941-85de-4e09-85fd-966be5366147 button.colab-df-convert');\n",
              "        buttonEl.style.display =\n",
              "          google.colab.kernel.accessAllowed ? 'block' : 'none';\n",
              "\n",
              "        async function convertToInteractive(key) {\n",
              "          const element = document.querySelector('#df-1fa49941-85de-4e09-85fd-966be5366147');\n",
              "          const dataTable =\n",
              "            await google.colab.kernel.invokeFunction('convertToInteractive',\n",
              "                                                     [key], {});\n",
              "          if (!dataTable) return;\n",
              "\n",
              "          const docLinkHtml = 'Like what you see? Visit the ' +\n",
              "            '<a target=\"_blank\" href=https://colab.research.google.com/notebooks/data_table.ipynb>data table notebook</a>'\n",
              "            + ' to learn more about interactive tables.';\n",
              "          element.innerHTML = '';\n",
              "          dataTable['output_type'] = 'display_data';\n",
              "          await google.colab.output.renderOutput(dataTable, element);\n",
              "          const docLink = document.createElement('div');\n",
              "          docLink.innerHTML = docLinkHtml;\n",
              "          element.appendChild(docLink);\n",
              "        }\n",
              "      </script>\n",
              "    </div>\n",
              "  </div>\n",
              "  "
            ]
          },
          "metadata": {},
          "execution_count": 59
        }
      ]
    },
    {
      "cell_type": "code",
      "source": [
        "df_t.sample(200)"
      ],
      "metadata": {
        "colab": {
          "base_uri": "https://localhost:8080/",
          "height": 424
        },
        "id": "3YH-6RJc_Td4",
        "outputId": "bf91034b-ab98-4c22-acf7-7884813bb64b"
      },
      "execution_count": null,
      "outputs": [
        {
          "output_type": "execute_result",
          "data": {
            "text/plain": [
              "                                               clean_text  label\n",
              "68      Oyé ... K Bientôt un an que le temps passe vit...   ados\n",
              "76      A Je t'ai envoyé une demande d'ami mais je sai...   ados\n",
              "73                   B Tu y as accès sur mon autre compte   ados\n",
              "222999  c'est normal qu'un gars de 19 ans aime une fil...  adult\n",
              "222960  En réponse à Chi49yh Bonjour à toutes J'ai cru...  adult\n",
              "...                                                   ...    ...\n",
              "60      Je suis pressé de te revoir J'aimerais qu'on r...   ados\n",
              "222974  En réponse à Mellebulles Bonsoir Isa Bonsoir M...  adult\n",
              "222934  bonjour Puce ton message m'agace c'est dit gen...  adult\n",
              "222937  bonjour il y a un article assez simple et clai...  adult\n",
              "59      ... Je suis entièrement d'accord avec toi quan...   ados\n",
              "\n",
              "[200 rows x 2 columns]"
            ],
            "text/html": [
              "\n",
              "  <div id=\"df-3a530067-93d6-4549-89a8-29d85aec3ac9\">\n",
              "    <div class=\"colab-df-container\">\n",
              "      <div>\n",
              "<style scoped>\n",
              "    .dataframe tbody tr th:only-of-type {\n",
              "        vertical-align: middle;\n",
              "    }\n",
              "\n",
              "    .dataframe tbody tr th {\n",
              "        vertical-align: top;\n",
              "    }\n",
              "\n",
              "    .dataframe thead th {\n",
              "        text-align: right;\n",
              "    }\n",
              "</style>\n",
              "<table border=\"1\" class=\"dataframe\">\n",
              "  <thead>\n",
              "    <tr style=\"text-align: right;\">\n",
              "      <th></th>\n",
              "      <th>clean_text</th>\n",
              "      <th>label</th>\n",
              "    </tr>\n",
              "  </thead>\n",
              "  <tbody>\n",
              "    <tr>\n",
              "      <th>68</th>\n",
              "      <td>Oyé ... K Bientôt un an que le temps passe vit...</td>\n",
              "      <td>ados</td>\n",
              "    </tr>\n",
              "    <tr>\n",
              "      <th>76</th>\n",
              "      <td>A Je t'ai envoyé une demande d'ami mais je sai...</td>\n",
              "      <td>ados</td>\n",
              "    </tr>\n",
              "    <tr>\n",
              "      <th>73</th>\n",
              "      <td>B Tu y as accès sur mon autre compte</td>\n",
              "      <td>ados</td>\n",
              "    </tr>\n",
              "    <tr>\n",
              "      <th>222999</th>\n",
              "      <td>c'est normal qu'un gars de 19 ans aime une fil...</td>\n",
              "      <td>adult</td>\n",
              "    </tr>\n",
              "    <tr>\n",
              "      <th>222960</th>\n",
              "      <td>En réponse à Chi49yh Bonjour à toutes J'ai cru...</td>\n",
              "      <td>adult</td>\n",
              "    </tr>\n",
              "    <tr>\n",
              "      <th>...</th>\n",
              "      <td>...</td>\n",
              "      <td>...</td>\n",
              "    </tr>\n",
              "    <tr>\n",
              "      <th>60</th>\n",
              "      <td>Je suis pressé de te revoir J'aimerais qu'on r...</td>\n",
              "      <td>ados</td>\n",
              "    </tr>\n",
              "    <tr>\n",
              "      <th>222974</th>\n",
              "      <td>En réponse à Mellebulles Bonsoir Isa Bonsoir M...</td>\n",
              "      <td>adult</td>\n",
              "    </tr>\n",
              "    <tr>\n",
              "      <th>222934</th>\n",
              "      <td>bonjour Puce ton message m'agace c'est dit gen...</td>\n",
              "      <td>adult</td>\n",
              "    </tr>\n",
              "    <tr>\n",
              "      <th>222937</th>\n",
              "      <td>bonjour il y a un article assez simple et clai...</td>\n",
              "      <td>adult</td>\n",
              "    </tr>\n",
              "    <tr>\n",
              "      <th>59</th>\n",
              "      <td>... Je suis entièrement d'accord avec toi quan...</td>\n",
              "      <td>ados</td>\n",
              "    </tr>\n",
              "  </tbody>\n",
              "</table>\n",
              "<p>200 rows × 2 columns</p>\n",
              "</div>\n",
              "      <button class=\"colab-df-convert\" onclick=\"convertToInteractive('df-3a530067-93d6-4549-89a8-29d85aec3ac9')\"\n",
              "              title=\"Convert this dataframe to an interactive table.\"\n",
              "              style=\"display:none;\">\n",
              "        \n",
              "  <svg xmlns=\"http://www.w3.org/2000/svg\" height=\"24px\"viewBox=\"0 0 24 24\"\n",
              "       width=\"24px\">\n",
              "    <path d=\"M0 0h24v24H0V0z\" fill=\"none\"/>\n",
              "    <path d=\"M18.56 5.44l.94 2.06.94-2.06 2.06-.94-2.06-.94-.94-2.06-.94 2.06-2.06.94zm-11 1L8.5 8.5l.94-2.06 2.06-.94-2.06-.94L8.5 2.5l-.94 2.06-2.06.94zm10 10l.94 2.06.94-2.06 2.06-.94-2.06-.94-.94-2.06-.94 2.06-2.06.94z\"/><path d=\"M17.41 7.96l-1.37-1.37c-.4-.4-.92-.59-1.43-.59-.52 0-1.04.2-1.43.59L10.3 9.45l-7.72 7.72c-.78.78-.78 2.05 0 2.83L4 21.41c.39.39.9.59 1.41.59.51 0 1.02-.2 1.41-.59l7.78-7.78 2.81-2.81c.8-.78.8-2.07 0-2.86zM5.41 20L4 18.59l7.72-7.72 1.47 1.35L5.41 20z\"/>\n",
              "  </svg>\n",
              "      </button>\n",
              "      \n",
              "  <style>\n",
              "    .colab-df-container {\n",
              "      display:flex;\n",
              "      flex-wrap:wrap;\n",
              "      gap: 12px;\n",
              "    }\n",
              "\n",
              "    .colab-df-convert {\n",
              "      background-color: #E8F0FE;\n",
              "      border: none;\n",
              "      border-radius: 50%;\n",
              "      cursor: pointer;\n",
              "      display: none;\n",
              "      fill: #1967D2;\n",
              "      height: 32px;\n",
              "      padding: 0 0 0 0;\n",
              "      width: 32px;\n",
              "    }\n",
              "\n",
              "    .colab-df-convert:hover {\n",
              "      background-color: #E2EBFA;\n",
              "      box-shadow: 0px 1px 2px rgba(60, 64, 67, 0.3), 0px 1px 3px 1px rgba(60, 64, 67, 0.15);\n",
              "      fill: #174EA6;\n",
              "    }\n",
              "\n",
              "    [theme=dark] .colab-df-convert {\n",
              "      background-color: #3B4455;\n",
              "      fill: #D2E3FC;\n",
              "    }\n",
              "\n",
              "    [theme=dark] .colab-df-convert:hover {\n",
              "      background-color: #434B5C;\n",
              "      box-shadow: 0px 1px 3px 1px rgba(0, 0, 0, 0.15);\n",
              "      filter: drop-shadow(0px 1px 2px rgba(0, 0, 0, 0.3));\n",
              "      fill: #FFFFFF;\n",
              "    }\n",
              "  </style>\n",
              "\n",
              "      <script>\n",
              "        const buttonEl =\n",
              "          document.querySelector('#df-3a530067-93d6-4549-89a8-29d85aec3ac9 button.colab-df-convert');\n",
              "        buttonEl.style.display =\n",
              "          google.colab.kernel.accessAllowed ? 'block' : 'none';\n",
              "\n",
              "        async function convertToInteractive(key) {\n",
              "          const element = document.querySelector('#df-3a530067-93d6-4549-89a8-29d85aec3ac9');\n",
              "          const dataTable =\n",
              "            await google.colab.kernel.invokeFunction('convertToInteractive',\n",
              "                                                     [key], {});\n",
              "          if (!dataTable) return;\n",
              "\n",
              "          const docLinkHtml = 'Like what you see? Visit the ' +\n",
              "            '<a target=\"_blank\" href=https://colab.research.google.com/notebooks/data_table.ipynb>data table notebook</a>'\n",
              "            + ' to learn more about interactive tables.';\n",
              "          element.innerHTML = '';\n",
              "          dataTable['output_type'] = 'display_data';\n",
              "          await google.colab.output.renderOutput(dataTable, element);\n",
              "          const docLink = document.createElement('div');\n",
              "          docLink.innerHTML = docLinkHtml;\n",
              "          element.appendChild(docLink);\n",
              "        }\n",
              "      </script>\n",
              "    </div>\n",
              "  </div>\n",
              "  "
            ]
          },
          "metadata": {},
          "execution_count": 12
        }
      ]
    },
    {
      "cell_type": "code",
      "source": [
        "for n in df_t.loc[60, ['clean_text']]:\n",
        "  print(n)"
      ],
      "metadata": {
        "colab": {
          "base_uri": "https://localhost:8080/"
        },
        "id": "QiGoeuXSDtYp",
        "outputId": "81855c55-eeb3-4ff3-ddf8-16d22b0860f6"
      },
      "execution_count": null,
      "outputs": [
        {
          "output_type": "stream",
          "name": "stdout",
          "text": [
            "presser revoir aimer reparle tête tête compromettre moment forum malheureusement vide ici\n"
          ]
        }
      ]
    },
    {
      "cell_type": "code",
      "source": [
        "df_t['clean_text'][60]"
      ],
      "metadata": {
        "id": "cfUbjZrkQys_",
        "outputId": "4dff9598-d112-4078-ee26-ec2c5ed8da8c",
        "colab": {
          "base_uri": "https://localhost:8080/",
          "height": 35
        }
      },
      "execution_count": null,
      "outputs": [
        {
          "output_type": "execute_result",
          "data": {
            "text/plain": [
              "'presser revoir aimer reparle tête tête compromettre moment forum malheureusement vide ici'"
            ],
            "application/vnd.google.colaboratory.intrinsic+json": {
              "type": "string"
            }
          },
          "metadata": {},
          "execution_count": 80
        }
      ]
    },
    {
      "cell_type": "code",
      "source": [
        "sns.countplot(df_t['label'])"
      ],
      "metadata": {
        "colab": {
          "base_uri": "https://localhost:8080/",
          "height": 351
        },
        "id": "6Q_eGUw8Aaal",
        "outputId": "49b90a3b-9696-426a-f5fc-3ad9718e94c8"
      },
      "execution_count": null,
      "outputs": [
        {
          "output_type": "stream",
          "name": "stderr",
          "text": [
            "/usr/local/lib/python3.7/dist-packages/seaborn/_decorators.py:43: FutureWarning: Pass the following variable as a keyword arg: x. From version 0.12, the only valid positional argument will be `data`, and passing other arguments without an explicit keyword will result in an error or misinterpretation.\n",
            "  FutureWarning\n"
          ]
        },
        {
          "output_type": "execute_result",
          "data": {
            "text/plain": [
              "<matplotlib.axes._subplots.AxesSubplot at 0x7fd6193be350>"
            ]
          },
          "metadata": {},
          "execution_count": 13
        },
        {
          "output_type": "display_data",
          "data": {
            "text/plain": [
              "<Figure size 432x288 with 1 Axes>"
            ],
            "image/png": "[encoded data removed]"
          },
          "metadata": {
            "needs_background": "light"
          }
        }
      ]
    },
    {
      "cell_type": "markdown",
      "source": [
        "# Etapa 3: Função para pré-processamento dos textos"
      ],
      "metadata": {
        "id": "ZgVLc_1VcrRC"
      }
    },
    {
      "cell_type": "code",
      "source": [
        "ponc = string.punctuation\n",
        "ponc"
      ],
      "metadata": {
        "colab": {
          "base_uri": "https://localhost:8080/",
          "height": 35
        },
        "id": "Va1vWU6Rcw0k",
        "outputId": "0e5e3457-2a22-4d62-e3af-f7dcd2911863"
      },
      "execution_count": null,
      "outputs": [
        {
          "output_type": "execute_result",
          "data": {
            "text/plain": [
              "'!\"#$%&\\'()*+,-./:;<=>?@[\\\\]^_`{|}~'"
            ],
            "application/vnd.google.colaboratory.intrinsic+json": {
              "type": "string"
            }
          },
          "metadata": {},
          "execution_count": 14
        }
      ]
    },
    {
      "cell_type": "code",
      "source": [
        "from spacy.lang.fr.stop_words import STOP_WORDS\n",
        "stop_words = STOP_WORDS\n",
        "print(stop_words)"
      ],
      "metadata": {
        "colab": {
          "base_uri": "https://localhost:8080/"
        },
        "id": "aKiUarXEc8iZ",
        "outputId": "73876805-db92-4f8b-c946-a00c5ff0c371"
      },
      "execution_count": null,
      "outputs": [
        {
          "output_type": "stream",
          "name": "stdout",
          "text": [
            "{'proche', 'stop', 'chut', 'on', 'puis', 'vont', 'anterieur', 'l’', 'leurs', 'longtemps', 'semblent', 'malgré', 'troisième', 'bigre', 'dix-neuf', 'dix-huit', 'celles', 'clic', 'seul', 'procedant', 'autrement', 'cet', 'quelque', 'derrière', 'encore', 'hormis', 'hors', 'suffisante', 'pres', 'ses', 'le', 'a', \"m'\", 'néanmoins', 'maint', 'peuvent', 'ceux-là', 'feront', 'font', 'elle', 'même', 'vifs', 'lui-meme', 'effet', 'tenir', 'aucun', 'était', 'ceci', 'troisièmement', 'dit', 'différentes', 'siens', 'duquel', 'beaucoup', 'suivre', 'vous', 'tenant', 'comment', 'possessifs', 'mêmes', 'holà', 'psitt', 'pure', 'tu', 'cinquante', 'clac', 'hé', 'euh', 'o', 'differents', 'elles-mêmes', 'tels', 'probante', 'leur', 'suffisant', 'té', 'uniformement', 'vôtres', 'directe', 'crac', 'étais', 'ni', 'trop', 'fait', 'particulière', 'vais', 'deuxièmement', \"j'\", 'sixième', 'pourquoi', 'mes', 'laquelle', 'possessif', 'sur', 'vé', 'celle-là', 'te', 'celles-ci', 'dix-sept', 'plein', 'pas', 'seulement', 'telles', 'nombreuses', 'quatrièmement', 'quanta', 'dans', 'vas', 'sacrebleu', 'avaient', 'chaque', 'pif', 'soixante', 's’', 'devra', 'moindres', 'ailleurs', 'rendre', 'm’', 'olé', 'nombreux', 'nos', 'mais', 'lesquelles', 'environ', 'douzième', 'quoi', 'naturelle', 'cinquième', 'hop', 'vivat', 'pu', 'allô', 'etre', 'quelles', 'permet', 'toi-même', 'vers', 'chères', 'car', 'pourrait', 'tien', 'celle-ci', 'diverse', 'egales', 'qu’', 'quatre-vingt', 'suivants', 'afin', 'auraient', 'bat', 'avait', 'excepté', 'hélas', 'tes', 'maintenant', 'que', 'i', 'certain', 'etaient', 'via', 'abord', 'as', 'assez', \"aujourd'hui\", 'pourrais', 'désormais', 'pfut', 'suffit', 'cela', 'moi-meme', 'comme', 'aux', 'd’', 'deux', 'miennes', 'ou', 'onzième', 'peut', 'dehors', 'qui', 'desormais', 'moins', 'dessous', 'six', 'unes', 'ceux', 'restent', 'laisser', 'différent', 'serait', 'mon', 'trente', 'toi', 'siennes', 'être', 'vos', 'septième', 'rend', 'cependant', 'suivante', 'entre', 'neuf', 'importe', 'touchant', 'fais', 'aura', 'sans', 'chacun', 'naturelles', 'bas', 'subtiles', 'tant', 'aujourd', 'façon', 'va', 'eh', 'oust', 'sera', 'rare', 'strictement', 'gens', 'lors', 'puisque', 'tend', 'treize', 'huitième', 'tres', 'certaine', 'auront', 'plouf', 'allaient', 'sapristi', 'specifiques', 'absolument', 'lorsque', 'celui-ci', 'tienne', 'dire', 'toutes', 'dix', 'deuxième', 'son', 'eux', \"t'\", 'moi', 'unique', \"s'\", 'souvent', 'plus', 'divers', 'la', 'ai', 'certains', 'restrictif', 'partant', 'tardive', 'avais', 'parce', 'sent', 'attendu', 'nous-mêmes', 'dernier', 'ouverts', 'ma', 'precisement', 'boum', 'là', 'douze', 'nôtre', 'autrefois', 'semble', 'bah', 'mien', 'ohé', 'où', \"quelqu'un\", 'auxquelles', 'chers', 'au', 'chez', 'selon', 'mince', 'ils', 'hem', 'quant', 'vives', 'apres', 'dring', 'eux-mêmes', 'necessaire', 'soit', 'parmi', 'â', 'avant', 'vôtre', 'jusque', 'avec', 'rien', 'ah', 'etait', 'soi', 'voilà', 'jusqu', 'vive', 'comparable', 'ayant', 'combien', 'est', 'quiconque', 'desquelles', 'superpose', 'passé', 'autrui', 'na', 'aurait', 'quoique', 'brrr', 'huit', 'cinq', 'ont', 'une', 'seront', 'elles', 'été', 'plusieurs', 'tous', 'différents', 'floc', 'ho', 'hurrah', 'bien', 'vous-mêmes', 'doivent', 'hep', 'tellement', 'reste', 'certes', 'seize', 'sa', 'plutôt', 'votre', 'autre', 'quatrième', \"c'\", 'sait', 'probable', 'tsouin', 'envers', 'aucune', 'tiens', 'elle-même', 'debout', 'n’', 'suivant', 'ouverte', 'ollé', 'quelques', 'trois', 'nul', 'vlan', 'aupres', 'suis', 'pour', 'tsoin', 'particulièrement', 'diverses', 'celui-là', 'parfois', 'semblable', 'différente', 'couic', 'seraient', 'ainsi', 'si', 'zut', 'autres', 'relative', 'auxquels', 'parseme', 'compris', 'nôtres', 'hum', 'du', 'ton', 'paf', 'possibles', 'ore', 'quant-à-soi', 'c’', 'parle', 'auquel', 'ouf', 'sauf', 'faisant', 'je', 'juste', 'aie', 'tiennes', 'lui-même', 'dits', 'outre', 'cinquantième', 'hue', 'pfft', 'sienne', 'etc', 'alors', 'celle', 'celles-là', 'durant', 'las', 'avoir', 'basee', 'hui', 'concernant', 'es', 'egalement', 'flac', 'vu', \"n'\", 'quelle', 'ouste', 'desquels', 'toute', 'pendant', 'près', 'quels', 'allons', 'merci', 'toujours', 'miens', 'dessus', 'lequel', 'ça', 'etais', 'tel', 'extenso', 'dès', 't’', 'donc', 'nouveau', 'cher', 'anterieures', 'malgre', 'tout', 'exactement', 'surtout', 'houp', 'deja', 'rares', 'vif', 'contre', 'doit', 'celui', 'quatorze', 'minimale', 'uniques', 'premier', 'pur', 'lesquels', 'pouvait', 'voici', 'ne', 'ces', 'sont', 'maximale', 'ceux-ci', 'mille', 'neanmoins', 'toc', 'ta', 'chère', 'non', 'uns', 'oh', 'nous', 'hou', 'allo', 'depuis', 'directement', 'quarante', 'dite', 'ô', 'lui', 'parlent', 'sept', 'cent', 'très', 'naturel', 'peu', 'semblaient', 'cinquantaine', 'j’', \"qu'\", 'sien', 'sinon', 'il', 'se', 'premièrement', 'de', 'toutefois', 'en', 'première', 'quatre', 'notamment', 'ha', 'pense', 'quel', 'sein', 'chacune', 'revoilà', 'lès', 'eu', 'relativement', 'soi-même', 'chiche', 'meme', 'comparables', 'memes', 'un', 'different', 'parler', 'egale', 'pan', 'tac', 'et', 'avons', 'cette', 'me', 'remarquable', 'ce', 'retour', 'pire', 'personne', 'pff', 'revoici', 'par', 'delà', 'fi', 'particulier', 'mienne', 'suivantes', 'hein', 'rarement', 'possible', 'dedans', 'moi-même', 'quelconque', 'ait', 'quand', 'moyennant', 'da', 'suit', 'differentes', 'certaines', 'pouah', 'etant', 'restant', 'après', \"d'\", 'necessairement', 'à', 'devant', 'notre', 'peux', 'sous', 'onze', 'aussi', 'les', 'hi', 'specifique', 'telle', 'ouias', 'tente', \"l'\", 'speculatif', 'enfin', 'quinze', 'des', 'derniere', 'faisaient', 'ci', 'tic', 'étaient', 'bravo', 'ès', 'devers', 'exterieur', 'anterieure', 'derriere', 'prealable', 'seule', 'vingt', 'dixième', 'beau', 'neuvième', 'ouvert', 'étant', 'dont'}\n"
          ]
        }
      ]
    },
    {
      "cell_type": "code",
      "source": [
        "def pretraitement(texte):\n",
        "  doc = pln(texte.lower())\n",
        "  phrase = []\n",
        "  for k, mot in enumerate(doc):   #j ai utilisé enumerate juste pour créer un iterateur\n",
        "    if mot.text not in ponc and mot.text not in stop_words and not mot.is_digit:\n",
        "      phrase.append(mot.lemma_)\n",
        "  phrase = ' '.join([str(mot) for mot in phrase])\n",
        "  return phrase\n"
      ],
      "metadata": {
        "id": "eSf318NcdbiB"
      },
      "execution_count": null,
      "outputs": []
    },
    {
      "cell_type": "code",
      "source": [
        "teste = 'Je suis en train d´apprendre, 12 NLP courses à Reims chaque jour!'\n",
        "print(pretraitement(teste))"
      ],
      "metadata": {
        "colab": {
          "base_uri": "https://localhost:8080/"
        },
        "id": "T_f79JnkepZ4",
        "outputId": "56d84821-b3a2-41ae-903a-dcf3dd3cb344"
      },
      "execution_count": null,
      "outputs": [
        {
          "output_type": "stream",
          "name": "stdout",
          "text": [
            "train d´apprendr nlp course reim jour\n"
          ]
        }
      ]
    },
    {
      "cell_type": "code",
      "source": [
        "d = pln(teste)\n",
        "d[3].is_stop"
      ],
      "metadata": {
        "colab": {
          "base_uri": "https://localhost:8080/"
        },
        "id": "Y269j2MCfUEj",
        "outputId": "5af67df1-b511-4e50-ff55-4ce6be5ce8f1"
      },
      "execution_count": null,
      "outputs": [
        {
          "output_type": "execute_result",
          "data": {
            "text/plain": [
              "False"
            ]
          },
          "metadata": {},
          "execution_count": 18
        }
      ]
    },
    {
      "cell_type": "code",
      "source": [
        "\"Appliquer le pretraitement sur la base dataframe specifiquement sur la colonne clean_text\""
      ],
      "metadata": {
        "colab": {
          "base_uri": "https://localhost:8080/",
          "height": 35
        },
        "id": "mt3lVO6QnYTA",
        "outputId": "5a215c33-b928-4ac4-9d00-f1e56841d2c7"
      },
      "execution_count": null,
      "outputs": [
        {
          "output_type": "execute_result",
          "data": {
            "text/plain": [
              "'Appliquer le pretraitement sur la base dataframe specifiquement sur la colonne clean_text'"
            ],
            "application/vnd.google.colaboratory.intrinsic+json": {
              "type": "string"
            }
          },
          "metadata": {},
          "execution_count": 19
        }
      ]
    },
    {
      "cell_type": "code",
      "source": [
        "df_t['clean_text'] = df_t['clean_text'].apply(pretraitement)"
      ],
      "metadata": {
        "id": "GIjyuMSIsJCk"
      },
      "execution_count": null,
      "outputs": []
    },
    {
      "cell_type": "code",
      "source": [
        "df_t"
      ],
      "metadata": {
        "colab": {
          "base_uri": "https://localhost:8080/",
          "height": 424
        },
        "id": "EDj2mV2CtW7b",
        "outputId": "643c53e0-58e6-4eb8-dcb6-61e9d0f9b62f"
      },
      "execution_count": null,
      "outputs": [
        {
          "output_type": "execute_result",
          "data": {
            "text/plain": [
              "                                               clean_text  label\n",
              "0                           aller remettre long vie topic   ados\n",
              "1                                                     oui   ados\n",
              "2                                            départ forum   ados\n",
              "3                                      prendre recommence   ados\n",
              "4                                    y' majuscule nuit ''   ados\n",
              "...                                                   ...    ...\n",
              "223017   les.hormone garçon normal voir nu to mari savoir  adult\n",
              "223018  y post sujet ici faire recherche plupart ado r...  adult\n",
              "223019  normal comportement âge falloir expliquer cerv...  adult\n",
              "223020  être issu lignée consanguain adam eve gosse ob...  adult\n",
              "223021  bonjour penser aider donner conseil fils an fi...  adult\n",
              "\n",
              "[200 rows x 2 columns]"
            ],
            "text/html": [
              "\n",
              "  <div id=\"df-0fa3988a-9034-4658-a8eb-b9b547c6667e\">\n",
              "    <div class=\"colab-df-container\">\n",
              "      <div>\n",
              "<style scoped>\n",
              "    .dataframe tbody tr th:only-of-type {\n",
              "        vertical-align: middle;\n",
              "    }\n",
              "\n",
              "    .dataframe tbody tr th {\n",
              "        vertical-align: top;\n",
              "    }\n",
              "\n",
              "    .dataframe thead th {\n",
              "        text-align: right;\n",
              "    }\n",
              "</style>\n",
              "<table border=\"1\" class=\"dataframe\">\n",
              "  <thead>\n",
              "    <tr style=\"text-align: right;\">\n",
              "      <th></th>\n",
              "      <th>clean_text</th>\n",
              "      <th>label</th>\n",
              "    </tr>\n",
              "  </thead>\n",
              "  <tbody>\n",
              "    <tr>\n",
              "      <th>0</th>\n",
              "      <td>aller remettre long vie topic</td>\n",
              "      <td>ados</td>\n",
              "    </tr>\n",
              "    <tr>\n",
              "      <th>1</th>\n",
              "      <td>oui</td>\n",
              "      <td>ados</td>\n",
              "    </tr>\n",
              "    <tr>\n",
              "      <th>2</th>\n",
              "      <td>départ forum</td>\n",
              "      <td>ados</td>\n",
              "    </tr>\n",
              "    <tr>\n",
              "      <th>3</th>\n",
              "      <td>prendre recommence</td>\n",
              "      <td>ados</td>\n",
              "    </tr>\n",
              "    <tr>\n",
              "      <th>4</th>\n",
              "      <td>y' majuscule nuit ''</td>\n",
              "      <td>ados</td>\n",
              "    </tr>\n",
              "    <tr>\n",
              "      <th>...</th>\n",
              "      <td>...</td>\n",
              "      <td>...</td>\n",
              "    </tr>\n",
              "    <tr>\n",
              "      <th>223017</th>\n",
              "      <td>les.hormone garçon normal voir nu to mari savoir</td>\n",
              "      <td>adult</td>\n",
              "    </tr>\n",
              "    <tr>\n",
              "      <th>223018</th>\n",
              "      <td>y post sujet ici faire recherche plupart ado r...</td>\n",
              "      <td>adult</td>\n",
              "    </tr>\n",
              "    <tr>\n",
              "      <th>223019</th>\n",
              "      <td>normal comportement âge falloir expliquer cerv...</td>\n",
              "      <td>adult</td>\n",
              "    </tr>\n",
              "    <tr>\n",
              "      <th>223020</th>\n",
              "      <td>être issu lignée consanguain adam eve gosse ob...</td>\n",
              "      <td>adult</td>\n",
              "    </tr>\n",
              "    <tr>\n",
              "      <th>223021</th>\n",
              "      <td>bonjour penser aider donner conseil fils an fi...</td>\n",
              "      <td>adult</td>\n",
              "    </tr>\n",
              "  </tbody>\n",
              "</table>\n",
              "<p>200 rows × 2 columns</p>\n",
              "</div>\n",
              "      <button class=\"colab-df-convert\" onclick=\"convertToInteractive('df-0fa3988a-9034-4658-a8eb-b9b547c6667e')\"\n",
              "              title=\"Convert this dataframe to an interactive table.\"\n",
              "              style=\"display:none;\">\n",
              "        \n",
              "  <svg xmlns=\"http://www.w3.org/2000/svg\" height=\"24px\"viewBox=\"0 0 24 24\"\n",
              "       width=\"24px\">\n",
              "    <path d=\"M0 0h24v24H0V0z\" fill=\"none\"/>\n",
              "    <path d=\"M18.56 5.44l.94 2.06.94-2.06 2.06-.94-2.06-.94-.94-2.06-.94 2.06-2.06.94zm-11 1L8.5 8.5l.94-2.06 2.06-.94-2.06-.94L8.5 2.5l-.94 2.06-2.06.94zm10 10l.94 2.06.94-2.06 2.06-.94-2.06-.94-.94-2.06-.94 2.06-2.06.94z\"/><path d=\"M17.41 7.96l-1.37-1.37c-.4-.4-.92-.59-1.43-.59-.52 0-1.04.2-1.43.59L10.3 9.45l-7.72 7.72c-.78.78-.78 2.05 0 2.83L4 21.41c.39.39.9.59 1.41.59.51 0 1.02-.2 1.41-.59l7.78-7.78 2.81-2.81c.8-.78.8-2.07 0-2.86zM5.41 20L4 18.59l7.72-7.72 1.47 1.35L5.41 20z\"/>\n",
              "  </svg>\n",
              "      </button>\n",
              "      \n",
              "  <style>\n",
              "    .colab-df-container {\n",
              "      display:flex;\n",
              "      flex-wrap:wrap;\n",
              "      gap: 12px;\n",
              "    }\n",
              "\n",
              "    .colab-df-convert {\n",
              "      background-color: #E8F0FE;\n",
              "      border: none;\n",
              "      border-radius: 50%;\n",
              "      cursor: pointer;\n",
              "      display: none;\n",
              "      fill: #1967D2;\n",
              "      height: 32px;\n",
              "      padding: 0 0 0 0;\n",
              "      width: 32px;\n",
              "    }\n",
              "\n",
              "    .colab-df-convert:hover {\n",
              "      background-color: #E2EBFA;\n",
              "      box-shadow: 0px 1px 2px rgba(60, 64, 67, 0.3), 0px 1px 3px 1px rgba(60, 64, 67, 0.15);\n",
              "      fill: #174EA6;\n",
              "    }\n",
              "\n",
              "    [theme=dark] .colab-df-convert {\n",
              "      background-color: #3B4455;\n",
              "      fill: #D2E3FC;\n",
              "    }\n",
              "\n",
              "    [theme=dark] .colab-df-convert:hover {\n",
              "      background-color: #434B5C;\n",
              "      box-shadow: 0px 1px 3px 1px rgba(0, 0, 0, 0.15);\n",
              "      filter: drop-shadow(0px 1px 2px rgba(0, 0, 0, 0.3));\n",
              "      fill: #FFFFFF;\n",
              "    }\n",
              "  </style>\n",
              "\n",
              "      <script>\n",
              "        const buttonEl =\n",
              "          document.querySelector('#df-0fa3988a-9034-4658-a8eb-b9b547c6667e button.colab-df-convert');\n",
              "        buttonEl.style.display =\n",
              "          google.colab.kernel.accessAllowed ? 'block' : 'none';\n",
              "\n",
              "        async function convertToInteractive(key) {\n",
              "          const element = document.querySelector('#df-0fa3988a-9034-4658-a8eb-b9b547c6667e');\n",
              "          const dataTable =\n",
              "            await google.colab.kernel.invokeFunction('convertToInteractive',\n",
              "                                                     [key], {});\n",
              "          if (!dataTable) return;\n",
              "\n",
              "          const docLinkHtml = 'Like what you see? Visit the ' +\n",
              "            '<a target=\"_blank\" href=https://colab.research.google.com/notebooks/data_table.ipynb>data table notebook</a>'\n",
              "            + ' to learn more about interactive tables.';\n",
              "          element.innerHTML = '';\n",
              "          dataTable['output_type'] = 'display_data';\n",
              "          await google.colab.output.renderOutput(dataTable, element);\n",
              "          const docLink = document.createElement('div');\n",
              "          docLink.innerHTML = docLinkHtml;\n",
              "          element.appendChild(docLink);\n",
              "        }\n",
              "      </script>\n",
              "    </div>\n",
              "  </div>\n",
              "  "
            ]
          },
          "metadata": {},
          "execution_count": 21
        }
      ]
    },
    {
      "cell_type": "markdown",
      "source": [
        "# TRAITEMENT DE CLASSE"
      ],
      "metadata": {
        "id": "Tnv4ttz8-Xxj"
      }
    },
    {
      "cell_type": "code",
      "source": [
        "df_final = []\n",
        "for texto, emocao in zip(df_t['clean_text'], df_t['label']):\n",
        "  #print(texto, emocao)\n",
        "  if emocao == 'ados':\n",
        "    dic = ({'ADOS': True, 'ADULT': False})\n",
        "  elif emocao == 'adult':\n",
        "    dic = ({'ADOS': False, 'ADULT': True})\n",
        "\n",
        "  df_final.append([texto, dic.copy()])"
      ],
      "metadata": {
        "id": "CAsrlvSf-bS2"
      },
      "execution_count": null,
      "outputs": []
    },
    {
      "cell_type": "code",
      "source": [
        "df_final[0:5]"
      ],
      "metadata": {
        "colab": {
          "base_uri": "https://localhost:8080/"
        },
        "id": "x9MD6f03_GCk",
        "outputId": "b0238187-796c-453c-a2a6-1e2b1d0e5b94"
      },
      "execution_count": null,
      "outputs": [
        {
          "output_type": "execute_result",
          "data": {
            "text/plain": [
              "[['aller remettre long vie topic', {'ADOS': True, 'ADULT': False}],\n",
              " ['oui', {'ADOS': True, 'ADULT': False}],\n",
              " ['départ forum', {'ADOS': True, 'ADULT': False}],\n",
              " ['prendre recommence', {'ADOS': True, 'ADULT': False}],\n",
              " [\"y' majuscule nuit ''\", {'ADOS': True, 'ADULT': False}]]"
            ]
          },
          "metadata": {},
          "execution_count": 23
        }
      ]
    },
    {
      "cell_type": "code",
      "source": [
        "for n in df_final[0:5]:\n",
        "  print(f'n = {n}')\n",
        "  for n1 in n:\n",
        "    if isinstance(n1, dict):\n",
        "      print(f'n1 = {n1}')"
      ],
      "metadata": {
        "colab": {
          "base_uri": "https://localhost:8080/"
        },
        "id": "H0GreXyD_kU7",
        "outputId": "6cb91ab3-5103-468e-e13a-781cfab13e24"
      },
      "execution_count": null,
      "outputs": [
        {
          "output_type": "stream",
          "name": "stdout",
          "text": [
            "n = ['aller remettre long vie topic', {'ADOS': True, 'ADULT': False}]\n",
            "n1 = {'ADOS': True, 'ADULT': False}\n",
            "n = ['oui', {'ADOS': True, 'ADULT': False}]\n",
            "n1 = {'ADOS': True, 'ADULT': False}\n",
            "n = ['départ forum', {'ADOS': True, 'ADULT': False}]\n",
            "n1 = {'ADOS': True, 'ADULT': False}\n",
            "n = ['prendre recommence', {'ADOS': True, 'ADULT': False}]\n",
            "n1 = {'ADOS': True, 'ADULT': False}\n",
            "n = [\"y' majuscule nuit ''\", {'ADOS': True, 'ADULT': False}]\n",
            "n1 = {'ADOS': True, 'ADULT': False}\n"
          ]
        }
      ]
    },
    {
      "cell_type": "markdown",
      "source": [
        "# CREATION DU MODELE"
      ],
      "metadata": {
        "id": "KXyZKz_asVtq"
      }
    },
    {
      "cell_type": "code",
      "source": [
        "model = spacy.blank('fr')\n",
        "categorias = model.create_pipe(\"textcat\")\n",
        "#categorias = model.add_pipe(\"textcat\")\n",
        "categorias.add_label(\"ADOS\")\n",
        "categorias.add_label(\"ADULT\")\n",
        "model.add_pipe(categorias)\n",
        "historico = []"
      ],
      "metadata": {
        "id": "-hJLhC-TsVVQ"
      },
      "execution_count": null,
      "outputs": []
    },
    {
      "cell_type": "code",
      "source": [
        "model.begin_training()\n",
        "for epoca in range(100):\n",
        "  random.shuffle(df_final)\n",
        "  losses = {}\n",
        "  for batch in spacy.util.minibatch(df_final, 30):\n",
        "    textos = [model(texto) for texto, entities in batch]\n",
        "    annotations = [{'cats': entities} for texto, entities in batch]\n",
        "    model.update(textos, annotations, losses=losses)\n",
        "  if epoca % 10 == 0:\n",
        "    print(losses)\n",
        "    historico.append(losses)"
      ],
      "metadata": {
        "colab": {
          "base_uri": "https://localhost:8080/"
        },
        "id": "lUdDeu958R8L",
        "outputId": "56be0b44-0e3a-436d-a508-c24f813480b6"
      },
      "execution_count": null,
      "outputs": [
        {
          "output_type": "stream",
          "name": "stdout",
          "text": [
            "{'textcat': 1.5361966004823202e-09}\n",
            "{'textcat': 1.4705013387517063e-09}\n",
            "{'textcat': 2.382223014407714e-07}\n",
            "{'textcat': 7.499116572162734e-08}\n",
            "{'textcat': 4.851622525947619e-08}\n",
            "{'textcat': 4.0913174514933814e-08}\n",
            "{'textcat': 3.065513820565968e-08}\n",
            "{'textcat': 2.6246865347800963e-08}\n",
            "{'textcat': 2.043318869660027e-08}\n",
            "{'textcat': 2.6263891284017404e-08}\n"
          ]
        }
      ]
    },
    {
      "cell_type": "code",
      "source": [
        "historico_loss = []\n",
        "for i in historico:\n",
        "  historico_loss.append(i.get('textcat'))"
      ],
      "metadata": {
        "id": "_4QopT1-_etR"
      },
      "execution_count": null,
      "outputs": []
    },
    {
      "cell_type": "code",
      "source": [
        "historico_loss = np.array(historico_loss)\n",
        "historico_loss"
      ],
      "metadata": {
        "colab": {
          "base_uri": "https://localhost:8080/"
        },
        "id": "pzJBqUEN_i3l",
        "outputId": "5682a8c9-d239-4115-d4c5-ff68c04e2fb0"
      },
      "execution_count": null,
      "outputs": [
        {
          "output_type": "execute_result",
          "data": {
            "text/plain": [
              "array([4.85692528e-03, 1.36518117e-07, 8.63827283e-07, 1.53619660e-09,\n",
              "       1.47050134e-09, 2.38222301e-07, 7.49911657e-08, 4.85162253e-08,\n",
              "       4.09131745e-08, 3.06551382e-08, 2.62468653e-08, 2.04331887e-08,\n",
              "       2.62638913e-08])"
            ]
          },
          "metadata": {},
          "execution_count": 34
        }
      ]
    },
    {
      "cell_type": "code",
      "source": [
        "import matplotlib.pyplot as plt\n",
        "plt.plot(historico_loss)\n",
        "plt.title('Progressão do erro')\n",
        "plt.xlabel('Épocas')\n",
        "plt.ylabel('Erro')"
      ],
      "metadata": {
        "colab": {
          "base_uri": "https://localhost:8080/",
          "height": 314
        },
        "id": "qMml4yY4_rfB",
        "outputId": "9667044f-cb06-4258-be82-96d98d8acdc5"
      },
      "execution_count": null,
      "outputs": [
        {
          "output_type": "execute_result",
          "data": {
            "text/plain": [
              "Text(0, 0.5, 'Erro')"
            ]
          },
          "metadata": {},
          "execution_count": 35
        },
        {
          "output_type": "display_data",
          "data": {
            "text/plain": [
              "<Figure size 432x288 with 1 Axes>"
            ],
            "image/png": "[encoded data removed]"
          },
          "metadata": {
            "needs_background": "light"
          }
        }
      ]
    },
    {
      "cell_type": "code",
      "source": [
        "model.to_disk(\"modelo\")"
      ],
      "metadata": {
        "id": "V0bqQ0Z2_xNV"
      },
      "execution_count": null,
      "outputs": []
    },
    {
      "cell_type": "markdown",
      "source": [
        "# TESTER NOTRE MODELE AVEC UNE PHRASE"
      ],
      "metadata": {
        "id": "ZWjcJ8KxBfti"
      }
    },
    {
      "cell_type": "code",
      "source": [
        "#Chager le modele\n",
        "model_charge = spacy.load('modelo')\n",
        "model_charge"
      ],
      "metadata": {
        "colab": {
          "base_uri": "https://localhost:8080/"
        },
        "id": "nFyzejvOBjio",
        "outputId": "4c9a80fb-bd50-4801-9e92-c48d8166bfcf"
      },
      "execution_count": null,
      "outputs": [
        {
          "output_type": "execute_result",
          "data": {
            "text/plain": [
              "<spacy.lang.fr.French at 0x7fd60e3be9d0>"
            ]
          },
          "metadata": {},
          "execution_count": 37
        }
      ]
    },
    {
      "cell_type": "code",
      "source": [
        "texte_ado = 'On prend les mêmes et on recommence'"
      ],
      "metadata": {
        "id": "9oYi2kcJCF9y"
      },
      "execution_count": null,
      "outputs": []
    },
    {
      "cell_type": "code",
      "source": [
        "texte_ado = pretraitement(texte_ado)\n",
        "texte_ado"
      ],
      "metadata": {
        "colab": {
          "base_uri": "https://localhost:8080/",
          "height": 35
        },
        "id": "nDAciQSQCWoU",
        "outputId": "e4c4ec63-8b71-488b-c3b4-2ea215b0bea7"
      },
      "execution_count": null,
      "outputs": [
        {
          "output_type": "execute_result",
          "data": {
            "text/plain": [
              "'prendre recommence'"
            ],
            "application/vnd.google.colaboratory.intrinsic+json": {
              "type": "string"
            }
          },
          "metadata": {},
          "execution_count": 40
        }
      ]
    },
    {
      "cell_type": "code",
      "source": [
        "prevision = model_charge(texte_ado)\n",
        "prevision"
      ],
      "metadata": {
        "colab": {
          "base_uri": "https://localhost:8080/"
        },
        "id": "99SCyG7FCsid",
        "outputId": "72c15d65-6c14-4f6a-e051-813057fa0908"
      },
      "execution_count": null,
      "outputs": [
        {
          "output_type": "execute_result",
          "data": {
            "text/plain": [
              "prendre recommence"
            ]
          },
          "metadata": {},
          "execution_count": 42
        }
      ]
    },
    {
      "cell_type": "code",
      "source": [
        "prevision.cats"
      ],
      "metadata": {
        "colab": {
          "base_uri": "https://localhost:8080/"
        },
        "id": "4sMgcEqNC_15",
        "outputId": "8fd324b4-047a-474a-b1f0-e7703e720c8f"
      },
      "execution_count": null,
      "outputs": [
        {
          "output_type": "execute_result",
          "data": {
            "text/plain": [
              "{'ADOS': 0.9989500641822815, 'ADULT': 0.00044213986257091165}"
            ]
          },
          "metadata": {},
          "execution_count": 43
        }
      ]
    },
    {
      "cell_type": "code",
      "source": [
        "texto_adult = 'concernant le saignement et la douleur on est'\n",
        "previsao = model_charge(pretraitement(texto_adult))\n",
        "previsao.cats"
      ],
      "metadata": {
        "colab": {
          "base_uri": "https://localhost:8080/"
        },
        "id": "IxnBbOpaDNOG",
        "outputId": "008c8dc4-64b1-4640-9f07-574e9a8ea23d"
      },
      "execution_count": null,
      "outputs": [
        {
          "output_type": "execute_result",
          "data": {
            "text/plain": [
              "{'ADOS': 0.33282846212387085, 'ADULT': 0.6150592565536499}"
            ]
          },
          "metadata": {},
          "execution_count": 54
        }
      ]
    },
    {
      "cell_type": "markdown",
      "source": [
        "# EVALUATION DU MODELE"
      ],
      "metadata": {
        "id": "i9_aajuTGaCO"
      }
    },
    {
      "cell_type": "markdown",
      "source": [
        "EVALUATION DE LA BASE TRAINING"
      ],
      "metadata": {
        "id": "9tlpPcpMGc8Q"
      }
    },
    {
      "cell_type": "code",
      "source": [
        "previsions = []\n",
        "for texte in df_t['clean_text']:\n",
        "  prevision = model_charge(texte)\n",
        "  previsions.append(prevision.cats)"
      ],
      "metadata": {
        "id": "tzGsTstJGZWK"
      },
      "execution_count": null,
      "outputs": []
    },
    {
      "cell_type": "code",
      "source": [
        "print(previsions)"
      ],
      "metadata": {
        "colab": {
          "base_uri": "https://localhost:8080/"
        },
        "id": "1BxKTYVPKUOg",
        "outputId": "55f8dd75-357c-44f4-e3e2-494d8065356a"
      },
      "execution_count": null,
      "outputs": [
        {
          "output_type": "stream",
          "name": "stdout",
          "text": [
            "[{'ADOS': 0.9995085000991821, 'ADULT': 0.00032298723817802966}, {'ADOS': 0.995904266834259, 'ADULT': 0.002755984663963318}, {'ADOS': 0.9993472695350647, 'ADULT': 0.00022656827059108764}, {'ADOS': 0.9989500641822815, 'ADULT': 0.00044213986257091165}, {'ADOS': 0.9987887740135193, 'ADULT': 0.0006852624355815351}, {'ADOS': 0.9988113641738892, 'ADULT': 0.000997781055048108}, {'ADOS': 0.9994457364082336, 'ADULT': 0.0003507582878228277}, {'ADOS': 0.999636173248291, 'ADULT': 0.0001811891997931525}, {'ADOS': 0.9998154044151306, 'ADULT': 0.00026296466239728034}, {'ADOS': 0.9996204376220703, 'ADULT': 0.0002636701101437211}, {'ADOS': 0.999395489692688, 'ADULT': 0.0004063547821715474}, {'ADOS': 0.9995751976966858, 'ADULT': 0.00037578484625555575}, {'ADOS': 0.9988470077514648, 'ADULT': 0.0008844027761369944}, {'ADOS': 0.999575674533844, 'ADULT': 0.0005982205038890243}, {'ADOS': 0.999687671661377, 'ADULT': 0.00035881405347026885}, {'ADOS': 0.9995115995407104, 'ADULT': 0.0002633028198033571}, {'ADOS': 0.999772846698761, 'ADULT': 0.0002617964055389166}, {'ADOS': 0.9998968839645386, 'ADULT': 0.00013686789316125214}, {'ADOS': 0.998853325843811, 'ADULT': 0.0013508828124031425}, {'ADOS': 0.9996064305305481, 'ADULT': 0.0009825577726587653}, {'ADOS': 0.9992861151695251, 'ADULT': 0.0008496352820657194}, {'ADOS': 0.9995059967041016, 'ADULT': 0.0005360362119972706}, {'ADOS': 0.9983717799186707, 'ADULT': 0.0013350066728889942}, {'ADOS': 0.9997749924659729, 'ADULT': 0.0001602532429387793}, {'ADOS': 0.9994761347770691, 'ADULT': 0.00010672969074221328}, {'ADOS': 0.9996200799942017, 'ADULT': 0.00018538936274126172}, {'ADOS': 0.9997802376747131, 'ADULT': 0.00043934176210314035}, {'ADOS': 0.9995875954627991, 'ADULT': 0.0004656738310586661}, {'ADOS': 0.9995563626289368, 'ADULT': 0.00032939662924036384}, {'ADOS': 0.9998767375946045, 'ADULT': 0.00016696994134690613}, {'ADOS': 0.9999344348907471, 'ADULT': 0.00013531677541323006}, {'ADOS': 0.9996341466903687, 'ADULT': 0.0004412989947013557}, {'ADOS': 0.9989988207817078, 'ADULT': 0.0004842917842324823}, {'ADOS': 0.9998069405555725, 'ADULT': 0.00019946592510677874}, {'ADOS': 0.9972925782203674, 'ADULT': 0.004047518130391836}, {'ADOS': 0.9993504881858826, 'ADULT': 0.0006457640556618571}, {'ADOS': 0.9990511536598206, 'ADULT': 0.0008179862634278834}, {'ADOS': 0.999037504196167, 'ADULT': 0.0006343427812680602}, {'ADOS': 0.9991735816001892, 'ADULT': 0.0006880915025249124}, {'ADOS': 0.9995242357254028, 'ADULT': 0.0002905589062720537}, {'ADOS': 0.9991612434387207, 'ADULT': 0.0004266308096703142}, {'ADOS': 0.9993933439254761, 'ADULT': 0.00029601241112686694}, {'ADOS': 0.9999315738677979, 'ADULT': 9.480100561631843e-05}, {'ADOS': 0.9964454770088196, 'ADULT': 0.002606744645163417}, {'ADOS': 0.9996232986450195, 'ADULT': 0.0005633342661894858}, {'ADOS': 0.998528242111206, 'ADULT': 0.0012279734946787357}, {'ADOS': 0.9994414448738098, 'ADULT': 0.0006683137617073953}, {'ADOS': 0.9983812570571899, 'ADULT': 0.0010806461796164513}, {'ADOS': 0.9995201826095581, 'ADULT': 0.0004518373461905867}, {'ADOS': 0.9995278120040894, 'ADULT': 0.00044638512190431356}, {'ADOS': 0.9997788071632385, 'ADULT': 0.00027165794745087624}, {'ADOS': 0.9995001554489136, 'ADULT': 0.00042152326204814017}, {'ADOS': 0.9994829893112183, 'ADULT': 0.000686168554238975}, {'ADOS': 0.9997041821479797, 'ADULT': 0.000319990940624848}, {'ADOS': 0.9995641112327576, 'ADULT': 0.0005992593360133469}, {'ADOS': 0.9998010993003845, 'ADULT': 0.00015739018272142857}, {'ADOS': 0.9995747208595276, 'ADULT': 0.0002852287143468857}, {'ADOS': 0.9998313188552856, 'ADULT': 0.000229899407713674}, {'ADOS': 0.9996963739395142, 'ADULT': 0.0002847879659384489}, {'ADOS': 0.9995062351226807, 'ADULT': 0.0010821764590218663}, {'ADOS': 0.9986727237701416, 'ADULT': 0.0012062713503837585}, {'ADOS': 0.9985464215278625, 'ADULT': 0.0011664102785289288}, {'ADOS': 0.9989700317382812, 'ADULT': 0.0008626842172816396}, {'ADOS': 0.999886155128479, 'ADULT': 0.00011777570034610108}, {'ADOS': 0.9985359907150269, 'ADULT': 0.0013196875806897879}, {'ADOS': 0.9992148876190186, 'ADULT': 0.0007331367232836783}, {'ADOS': 0.999077320098877, 'ADULT': 0.001268406747840345}, {'ADOS': 0.9965128302574158, 'ADULT': 0.003203734988346696}, {'ADOS': 0.9999274015426636, 'ADULT': 0.00012322254769969732}, {'ADOS': 0.9998317956924438, 'ADULT': 0.000269759853836149}, {'ADOS': 0.9994174242019653, 'ADULT': 0.00028479803586378694}, {'ADOS': 0.9990621209144592, 'ADULT': 0.0003897537535522133}, {'ADOS': 0.9996864795684814, 'ADULT': 0.0001683855225564912}, {'ADOS': 0.9988946318626404, 'ADULT': 0.0006101260078139603}, {'ADOS': 0.9994681477546692, 'ADULT': 0.0018329562153667212}, {'ADOS': 0.9996984004974365, 'ADULT': 0.00026667534257285297}, {'ADOS': 0.9993778467178345, 'ADULT': 0.0007334697293117642}, {'ADOS': 0.9998236298561096, 'ADULT': 0.00023411014990415424}, {'ADOS': 0.9997093081474304, 'ADULT': 0.000685736711602658}, {'ADOS': 0.9996938705444336, 'ADULT': 0.000441157870227471}, {'ADOS': 0.9994732737541199, 'ADULT': 0.0005991422804072499}, {'ADOS': 0.9999251365661621, 'ADULT': 0.00017506653966847807}, {'ADOS': 0.9996945858001709, 'ADULT': 0.00021529276273213327}, {'ADOS': 0.9997223019599915, 'ADULT': 0.0004471176362130791}, {'ADOS': 0.9976637363433838, 'ADULT': 0.0016340657602995634}, {'ADOS': 0.999785840511322, 'ADULT': 0.00015335534408222884}, {'ADOS': 0.9992997646331787, 'ADULT': 0.001136052655056119}, {'ADOS': 0.9995865225791931, 'ADULT': 0.000522072019521147}, {'ADOS': 0.9987951517105103, 'ADULT': 0.0006445398321375251}, {'ADOS': 0.9986850619316101, 'ADULT': 0.0006689968868158758}, {'ADOS': 0.9993440508842468, 'ADULT': 0.000618515070527792}, {'ADOS': 0.9995566010475159, 'ADULT': 0.0006180460331961513}, {'ADOS': 0.9998505115509033, 'ADULT': 0.0003055014822166413}, {'ADOS': 0.9996034502983093, 'ADULT': 0.001284823170863092}, {'ADOS': 0.9996862411499023, 'ADULT': 0.0002941276179626584}, {'ADOS': 0.9996153116226196, 'ADULT': 0.000533091661054641}, {'ADOS': 0.9994363188743591, 'ADULT': 0.0011463620467111468}, {'ADOS': 0.9995706677436829, 'ADULT': 0.0012281815288588405}, {'ADOS': 0.9994176626205444, 'ADULT': 0.001216292381286621}, {'ADOS': 0.998803973197937, 'ADULT': 0.0006138052558526397}, {'ADOS': 8.124762098304927e-05, 'ADULT': 0.9986520409584045}, {'ADOS': 7.686280878260732e-05, 'ADULT': 0.9989925026893616}, {'ADOS': 7.120263035176322e-05, 'ADULT': 0.9988465309143066}, {'ADOS': 0.0001744800974847749, 'ADULT': 0.9988180994987488}, {'ADOS': 4.539786823443137e-05, 'ADULT': 0.9992902278900146}, {'ADOS': 4.8517220420762897e-05, 'ADULT': 0.9993601441383362}, {'ADOS': 8.858317596605048e-05, 'ADULT': 0.9992135763168335}, {'ADOS': 0.005438947584480047, 'ADULT': 0.9943947792053223}, {'ADOS': 0.00022824974439572543, 'ADULT': 0.9990884065628052}, {'ADOS': 4.539786823443137e-05, 'ADULT': 0.9993119239807129}, {'ADOS': 4.7295041440520436e-05, 'ADULT': 0.9993170499801636}, {'ADOS': 0.00012059973232680932, 'ADULT': 0.9982501864433289}, {'ADOS': 4.539786823443137e-05, 'ADULT': 0.999036431312561}, {'ADOS': 4.539786823443137e-05, 'ADULT': 0.9993906021118164}, {'ADOS': 6.09021881246008e-05, 'ADULT': 0.999663233757019}, {'ADOS': 4.556063504423946e-05, 'ADULT': 0.9994372725486755}, {'ADOS': 4.539786823443137e-05, 'ADULT': 0.9991256594657898}, {'ADOS': 4.539786823443137e-05, 'ADULT': 0.9996504783630371}, {'ADOS': 9.172566933557391e-05, 'ADULT': 0.9985387325286865}, {'ADOS': 0.0001279236312257126, 'ADULT': 0.999325156211853}, {'ADOS': 0.00015199258632492274, 'ADULT': 0.9987558126449585}, {'ADOS': 0.00010213600762654096, 'ADULT': 0.9983200430870056}, {'ADOS': 0.0001423266512574628, 'ADULT': 0.9988980293273926}, {'ADOS': 4.539786823443137e-05, 'ADULT': 0.999639630317688}, {'ADOS': 5.328635234036483e-05, 'ADULT': 0.9996516704559326}, {'ADOS': 4.539786823443137e-05, 'ADULT': 0.9996848106384277}, {'ADOS': 9.86733939498663e-05, 'ADULT': 0.9987114667892456}, {'ADOS': 4.539786823443137e-05, 'ADULT': 0.9995439648628235}, {'ADOS': 7.785877824062482e-05, 'ADULT': 0.9991036057472229}, {'ADOS': 0.00011076390364905819, 'ADULT': 0.9991887211799622}, {'ADOS': 0.00020925764692947268, 'ADULT': 0.9994206428527832}, {'ADOS': 9.92533823591657e-05, 'ADULT': 0.9989301562309265}, {'ADOS': 6.368121830746531e-05, 'ADULT': 0.9996480941772461}, {'ADOS': 5.534882075153291e-05, 'ADULT': 0.9990272521972656}, {'ADOS': 5.013143891119398e-05, 'ADULT': 0.9993194341659546}, {'ADOS': 0.00010293599916622043, 'ADULT': 0.9991812109947205}, {'ADOS': 6.655264587607235e-05, 'ADULT': 0.9990923404693604}, {'ADOS': 0.0003332539927214384, 'ADULT': 0.9989591836929321}, {'ADOS': 9.04062544577755e-05, 'ADULT': 0.9985563158988953}, {'ADOS': 8.976643584901467e-05, 'ADULT': 0.9988905787467957}, {'ADOS': 4.539786823443137e-05, 'ADULT': 0.9996846914291382}, {'ADOS': 0.00012523775512818247, 'ADULT': 0.998683512210846}, {'ADOS': 4.539786823443137e-05, 'ADULT': 0.9994163513183594}, {'ADOS': 0.00017976725939661264, 'ADULT': 0.998690664768219}, {'ADOS': 8.581642032368109e-05, 'ADULT': 0.9983611702919006}, {'ADOS': 7.90189005783759e-05, 'ADULT': 0.9985513091087341}, {'ADOS': 5.2245344704715535e-05, 'ADULT': 0.9995796084403992}, {'ADOS': 5.3676048992201686e-05, 'ADULT': 0.9994308352470398}, {'ADOS': 6.100605969550088e-05, 'ADULT': 0.9994152784347534}, {'ADOS': 0.00033573468681424856, 'ADULT': 0.9983364939689636}, {'ADOS': 0.0010378961451351643, 'ADULT': 0.9974424839019775}, {'ADOS': 0.00021814406500197947, 'ADULT': 0.9991685152053833}, {'ADOS': 0.0001655722298892215, 'ADULT': 0.9993407130241394}, {'ADOS': 4.539786823443137e-05, 'ADULT': 0.9996590614318848}, {'ADOS': 9.03599793673493e-05, 'ADULT': 0.9979642629623413}, {'ADOS': 4.539786823443137e-05, 'ADULT': 0.9996174573898315}, {'ADOS': 4.539786823443137e-05, 'ADULT': 0.9993938207626343}, {'ADOS': 0.00011188606003997847, 'ADULT': 0.9986029267311096}, {'ADOS': 6.383437721524388e-05, 'ADULT': 0.9994284510612488}, {'ADOS': 0.00015786198491696268, 'ADULT': 0.9995031356811523}, {'ADOS': 0.0034711521584540606, 'ADULT': 0.9966448545455933}, {'ADOS': 4.539786823443137e-05, 'ADULT': 0.9992788434028625}, {'ADOS': 6.29796995781362e-05, 'ADULT': 0.9993770718574524}, {'ADOS': 4.539786823443137e-05, 'ADULT': 0.9997730851173401}, {'ADOS': 4.539786823443137e-05, 'ADULT': 0.999537467956543}, {'ADOS': 4.539786823443137e-05, 'ADULT': 0.9998443126678467}, {'ADOS': 5.6468848924851045e-05, 'ADULT': 0.9996185302734375}, {'ADOS': 7.949299470055848e-05, 'ADULT': 0.9991142153739929}, {'ADOS': 0.00020720907195936888, 'ADULT': 0.998055100440979}, {'ADOS': 4.539786823443137e-05, 'ADULT': 0.9997195601463318}, {'ADOS': 0.0001681328285485506, 'ADULT': 0.997717022895813}, {'ADOS': 7.416586595354602e-05, 'ADULT': 0.998783528804779}, {'ADOS': 4.539786823443137e-05, 'ADULT': 0.9995288848876953}, {'ADOS': 8.292805432574823e-05, 'ADULT': 0.9991775155067444}, {'ADOS': 0.00011709617683663964, 'ADULT': 0.9991289973258972}, {'ADOS': 0.00036811729660257697, 'ADULT': 0.9988862872123718}, {'ADOS': 0.00034462136682122946, 'ADULT': 0.9996113181114197}, {'ADOS': 5.0977843784494326e-05, 'ADULT': 0.9991772770881653}, {'ADOS': 4.539786823443137e-05, 'ADULT': 0.9995265007019043}, {'ADOS': 0.0003033245448023081, 'ADULT': 0.9984242916107178}, {'ADOS': 0.0007837206358090043, 'ADULT': 0.9989385008811951}, {'ADOS': 0.0008387511479668319, 'ADULT': 0.9991088509559631}, {'ADOS': 4.539786823443137e-05, 'ADULT': 0.9996225833892822}, {'ADOS': 0.00019231037003919482, 'ADULT': 0.9988335967063904}, {'ADOS': 4.539786823443137e-05, 'ADULT': 0.999505877494812}, {'ADOS': 5.605160185950808e-05, 'ADULT': 0.9993589520454407}, {'ADOS': 0.00011363655357854441, 'ADULT': 0.9995136260986328}, {'ADOS': 0.00010123046376975253, 'ADULT': 0.9990589022636414}, {'ADOS': 4.539786823443137e-05, 'ADULT': 0.9998865127563477}, {'ADOS': 0.0005423074471764266, 'ADULT': 0.9988429546356201}, {'ADOS': 0.00013923666847404093, 'ADULT': 0.9982755184173584}, {'ADOS': 5.248293382464908e-05, 'ADULT': 0.9992802739143372}, {'ADOS': 4.539786823443137e-05, 'ADULT': 0.9997281432151794}, {'ADOS': 6.26339387963526e-05, 'ADULT': 0.9994025230407715}, {'ADOS': 0.00013199362729210407, 'ADULT': 0.9993444085121155}, {'ADOS': 0.0001172170668723993, 'ADULT': 0.9994401335716248}, {'ADOS': 4.539786823443137e-05, 'ADULT': 0.9993956089019775}, {'ADOS': 4.539786823443137e-05, 'ADULT': 0.9997238516807556}, {'ADOS': 5.668400626746006e-05, 'ADULT': 0.9994218349456787}, {'ADOS': 5.941346535109915e-05, 'ADULT': 0.9995312690734863}]\n"
          ]
        }
      ]
    },
    {
      "cell_type": "code",
      "source": [
        "previsions_finales = []\n",
        "for prevision in previsions:\n",
        "  if prevision['ADOS'] > prevision['ADULT']:\n",
        "    previsions_finales.append('ados')\n",
        "  else:\n",
        "    previsions_finales.append('adult')\n",
        "\n",
        "previsions_finales = np.array(previsions_finales)"
      ],
      "metadata": {
        "id": "oxks7TuhIsDR"
      },
      "execution_count": null,
      "outputs": []
    },
    {
      "cell_type": "code",
      "source": [
        "print(previsions_finales)"
      ],
      "metadata": {
        "colab": {
          "base_uri": "https://localhost:8080/"
        },
        "id": "riqDv0kNKmXZ",
        "outputId": "63633b7f-b8d2-43bb-9604-aee909fcbdd6"
      },
      "execution_count": null,
      "outputs": [
        {
          "output_type": "stream",
          "name": "stdout",
          "text": [
            "['ados' 'ados' 'ados' 'ados' 'ados' 'ados' 'ados' 'ados' 'ados' 'ados'\n",
            " 'ados' 'ados' 'ados' 'ados' 'ados' 'ados' 'ados' 'ados' 'ados' 'ados'\n",
            " 'ados' 'ados' 'ados' 'ados' 'ados' 'ados' 'ados' 'ados' 'ados' 'ados'\n",
            " 'ados' 'ados' 'ados' 'ados' 'ados' 'ados' 'ados' 'ados' 'ados' 'ados'\n",
            " 'ados' 'ados' 'ados' 'ados' 'ados' 'ados' 'ados' 'ados' 'ados' 'ados'\n",
            " 'ados' 'ados' 'ados' 'ados' 'ados' 'ados' 'ados' 'ados' 'ados' 'ados'\n",
            " 'ados' 'ados' 'ados' 'ados' 'ados' 'ados' 'ados' 'ados' 'ados' 'ados'\n",
            " 'ados' 'ados' 'ados' 'ados' 'ados' 'ados' 'ados' 'ados' 'ados' 'ados'\n",
            " 'ados' 'ados' 'ados' 'ados' 'ados' 'ados' 'ados' 'ados' 'ados' 'ados'\n",
            " 'ados' 'ados' 'ados' 'ados' 'ados' 'ados' 'ados' 'ados' 'ados' 'ados'\n",
            " 'adult' 'adult' 'adult' 'adult' 'adult' 'adult' 'adult' 'adult' 'adult'\n",
            " 'adult' 'adult' 'adult' 'adult' 'adult' 'adult' 'adult' 'adult' 'adult'\n",
            " 'adult' 'adult' 'adult' 'adult' 'adult' 'adult' 'adult' 'adult' 'adult'\n",
            " 'adult' 'adult' 'adult' 'adult' 'adult' 'adult' 'adult' 'adult' 'adult'\n",
            " 'adult' 'adult' 'adult' 'adult' 'adult' 'adult' 'adult' 'adult' 'adult'\n",
            " 'adult' 'adult' 'adult' 'adult' 'adult' 'adult' 'adult' 'adult' 'adult'\n",
            " 'adult' 'adult' 'adult' 'adult' 'adult' 'adult' 'adult' 'adult' 'adult'\n",
            " 'adult' 'adult' 'adult' 'adult' 'adult' 'adult' 'adult' 'adult' 'adult'\n",
            " 'adult' 'adult' 'adult' 'adult' 'adult' 'adult' 'adult' 'adult' 'adult'\n",
            " 'adult' 'adult' 'adult' 'adult' 'adult' 'adult' 'adult' 'adult' 'adult'\n",
            " 'adult' 'adult' 'adult' 'adult' 'adult' 'adult' 'adult' 'adult' 'adult'\n",
            " 'adult']\n"
          ]
        }
      ]
    },
    {
      "cell_type": "code",
      "source": [
        "respostas_reais = df_t['label'].values"
      ],
      "metadata": {
        "id": "YnCCFAznJ17G"
      },
      "execution_count": null,
      "outputs": []
    },
    {
      "cell_type": "code",
      "source": [
        "print(respostas_reais)"
      ],
      "metadata": {
        "colab": {
          "base_uri": "https://localhost:8080/"
        },
        "id": "M-_sAU7TK1UP",
        "outputId": "cb2a45b5-f2b5-46a4-8efa-f74a53c44c7e"
      },
      "execution_count": null,
      "outputs": [
        {
          "output_type": "stream",
          "name": "stdout",
          "text": [
            "['ados' 'ados' 'ados' 'ados' 'ados' 'ados' 'ados' 'ados' 'ados' 'ados'\n",
            " 'ados' 'ados' 'ados' 'ados' 'ados' 'ados' 'ados' 'ados' 'ados' 'ados'\n",
            " 'ados' 'ados' 'ados' 'ados' 'ados' 'ados' 'ados' 'ados' 'ados' 'ados'\n",
            " 'ados' 'ados' 'ados' 'ados' 'ados' 'ados' 'ados' 'ados' 'ados' 'ados'\n",
            " 'ados' 'ados' 'ados' 'ados' 'ados' 'ados' 'ados' 'ados' 'ados' 'ados'\n",
            " 'ados' 'ados' 'ados' 'ados' 'ados' 'ados' 'ados' 'ados' 'ados' 'ados'\n",
            " 'ados' 'ados' 'ados' 'ados' 'ados' 'ados' 'ados' 'ados' 'ados' 'ados'\n",
            " 'ados' 'ados' 'ados' 'ados' 'ados' 'ados' 'ados' 'ados' 'ados' 'ados'\n",
            " 'ados' 'ados' 'ados' 'ados' 'ados' 'ados' 'ados' 'ados' 'ados' 'ados'\n",
            " 'ados' 'ados' 'ados' 'ados' 'ados' 'ados' 'ados' 'ados' 'ados' 'ados'\n",
            " 'adult' 'adult' 'adult' 'adult' 'adult' 'adult' 'adult' 'adult' 'adult'\n",
            " 'adult' 'adult' 'adult' 'adult' 'adult' 'adult' 'adult' 'adult' 'adult'\n",
            " 'adult' 'adult' 'adult' 'adult' 'adult' 'adult' 'adult' 'adult' 'adult'\n",
            " 'adult' 'adult' 'adult' 'adult' 'adult' 'adult' 'adult' 'adult' 'adult'\n",
            " 'adult' 'adult' 'adult' 'adult' 'adult' 'adult' 'adult' 'adult' 'adult'\n",
            " 'adult' 'adult' 'adult' 'adult' 'adult' 'adult' 'adult' 'adult' 'adult'\n",
            " 'adult' 'adult' 'adult' 'adult' 'adult' 'adult' 'adult' 'adult' 'adult'\n",
            " 'adult' 'adult' 'adult' 'adult' 'adult' 'adult' 'adult' 'adult' 'adult'\n",
            " 'adult' 'adult' 'adult' 'adult' 'adult' 'adult' 'adult' 'adult' 'adult'\n",
            " 'adult' 'adult' 'adult' 'adult' 'adult' 'adult' 'adult' 'adult' 'adult'\n",
            " 'adult' 'adult' 'adult' 'adult' 'adult' 'adult' 'adult' 'adult' 'adult'\n",
            " 'adult']\n"
          ]
        }
      ]
    },
    {
      "cell_type": "code",
      "source": [
        "from sklearn.metrics import confusion_matrix, accuracy_score\n",
        "accuracy_score(respostas_reais, previsions_finales)"
      ],
      "metadata": {
        "colab": {
          "base_uri": "https://localhost:8080/"
        },
        "id": "4hAaDmKqLBMw",
        "outputId": "03bb7271-73a2-47dc-af73-6950e8b7b6af"
      },
      "execution_count": null,
      "outputs": [
        {
          "output_type": "execute_result",
          "data": {
            "text/plain": [
              "1.0"
            ]
          },
          "metadata": {},
          "execution_count": 70
        }
      ]
    },
    {
      "cell_type": "code",
      "source": [
        "cm = confusion_matrix(respostas_reais, previsions_finales)\n",
        "cm"
      ],
      "metadata": {
        "colab": {
          "base_uri": "https://localhost:8080/"
        },
        "id": "aztH0Z1tLZPr",
        "outputId": "407c5080-2f51-4cfb-e059-7b8e66b97db8"
      },
      "execution_count": null,
      "outputs": [
        {
          "output_type": "execute_result",
          "data": {
            "text/plain": [
              "array([[100,   0],\n",
              "       [  0, 100]])"
            ]
          },
          "metadata": {},
          "execution_count": 72
        }
      ]
    },
    {
      "cell_type": "markdown",
      "source": [
        "EVALUATION SUR LA BASE DE BASE TEST"
      ],
      "metadata": {
        "id": "w8GgnnTLLhRS"
      }
    },
    {
      "cell_type": "code",
      "source": [
        "df_teste['clean_text'] = df_teste['clean_text'].apply(pretraitement)"
      ],
      "metadata": {
        "id": "62UaFRP-Mh3t"
      },
      "execution_count": null,
      "outputs": []
    },
    {
      "cell_type": "code",
      "source": [
        "previsoes_teste = []\n",
        "for texto in df_teste['clean_text']:\n",
        "  #print(texto)\n",
        "  previsao = model_charge(texto)\n",
        "  previsoes_teste.append(previsao.cats)"
      ],
      "metadata": {
        "id": "WFb9MyKbMxb9"
      },
      "execution_count": null,
      "outputs": []
    },
    {
      "cell_type": "code",
      "source": [
        "previsoes_final_teste = []\n",
        "for previsao in previsoes_teste:\n",
        "  if previsao['ADOS'] > previsao['ADULT']:\n",
        "    previsoes_final_teste.append('ados')\n",
        "  else:\n",
        "    previsoes_final_teste.append('adult')\n",
        "\n",
        "previsoes_final_teste = np.array(previsoes_final_teste)"
      ],
      "metadata": {
        "id": "hRVZCA-oNANv"
      },
      "execution_count": null,
      "outputs": []
    },
    {
      "cell_type": "code",
      "source": [
        "respostas_reais_teste = df_teste['label'].values"
      ],
      "metadata": {
        "id": "R8Nbc-4kNZuR"
      },
      "execution_count": null,
      "outputs": []
    },
    {
      "cell_type": "code",
      "source": [
        "accuracy_score(respostas_reais_teste, previsoes_final_teste)"
      ],
      "metadata": {
        "colab": {
          "base_uri": "https://localhost:8080/"
        },
        "id": "QTWzG-sJKEif",
        "outputId": "513bf819-3fa0-483a-ce33-f5a3bc6717f9"
      },
      "execution_count": null,
      "outputs": [
        {
          "output_type": "execute_result",
          "data": {
            "text/plain": [
              "1.0"
            ]
          },
          "metadata": {},
          "execution_count": 78
        }
      ]
    },
    {
      "cell_type": "code",
      "source": [
        "cm = confusion_matrix(respostas_reais, previsoes_final_teste)\n",
        "cm"
      ],
      "metadata": {
        "colab": {
          "base_uri": "https://localhost:8080/"
        },
        "id": "JyxPfoPFN6p5",
        "outputId": "b2269a37-0ed7-4dc9-c49e-8a7b6db72aef"
      },
      "execution_count": null,
      "outputs": [
        {
          "output_type": "execute_result",
          "data": {
            "text/plain": [
              "array([[  0, 100],\n",
              "       [100,   0]])"
            ]
          },
          "metadata": {},
          "execution_count": 79
        }
      ]
    }
  ]
}